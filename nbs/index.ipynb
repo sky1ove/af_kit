{
 "cells": [
  {
   "cell_type": "markdown",
   "metadata": {},
   "source": [
    "# af_kit\n",
    "\n",
    "> Useful functions in preparing AF input and analyzing output"
   ]
  },
  {
   "cell_type": "markdown",
   "metadata": {},
   "source": [
    "## Installation"
   ]
  },
  {
   "cell_type": "markdown",
   "metadata": {},
   "source": [
    "Install latest from the [af_kit GitHub Repository](https://github.com/sky1ove/af_kit):\n",
    "\n",
    "```sh\n",
    "$ pip install -U git+https://github.com/sky1ove/af_kit.git\n",
    "```"
   ]
  }
 ],
 "metadata": {
  "kernelspec": {
   "display_name": "python3",
   "language": "python",
   "name": "python3"
  }
 },
 "nbformat": 4,
 "nbformat_minor": 4
}
