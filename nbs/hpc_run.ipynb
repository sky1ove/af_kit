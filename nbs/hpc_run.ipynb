{
 "cells": [
  {
   "cell_type": "markdown",
   "id": "d787f8b0-f898-4e0e-a06e-c95964b34e42",
   "metadata": {},
   "source": [
    "# Singularity & slurm"
   ]
  },
  {
   "cell_type": "markdown",
   "id": "a54c63db-32cb-4c1c-a35a-26c2edef71f3",
   "metadata": {},
   "source": [
    "Check version before downloading singularity deb"
   ]
  },
  {
   "cell_type": "markdown",
   "id": "91313c18-1667-43c7-834e-a639a497266e",
   "metadata": {},
   "source": [
    "lsb_release -a # check ubuntu version"
   ]
  },
  {
   "cell_type": "markdown",
   "id": "5e1abf3f-fb96-4de5-90be-9366d1d31c68",
   "metadata": {},
   "source": [
    "wget https://github.com/sylabs/singularity/releases/download/v4.2.1/singularity-ce_4.2.1-focal_amd64.deb"
   ]
  },
  {
   "cell_type": "markdown",
   "id": "1f6ba94c-a8f6-4229-905d-a29b5927cfb8",
   "metadata": {},
   "source": [
    "sudo dpkg --install singularity-ce_4.2.1-focal_amd64.deb\n",
    "sudo apt-get install -f"
   ]
  },
  {
   "cell_type": "markdown",
   "id": "0832c2d8-b68d-48ba-bde7-45c2736f268a",
   "metadata": {},
   "source": [
    "CUDA_VISIBLE_DEVICES=3 singularity exec --nv alphafold3.sif \\\n",
    "python -u alphafold3/run_alphafold.py \\\n",
    "--input_dir=af_input_ECD_Immunoglobulin/folder_3 \\\n",
    "--output_dir=af_output_ECD_Immunoglobulin \\\n",
    "--model_dir=af_models \\\n",
    "--jax_compilation_cache_dir=af_cache/cache \\\n",
    "--norun_data_pipeline | tee run.log"
   ]
  },
  {
   "cell_type": "markdown",
   "id": "a5062fe7-a429-4138-9a1e-d1a9bb5a051e",
   "metadata": {},
   "source": [
    "CUDA_VISIBLE_DEVICES=3 singularity exec --nv alphafold3.sif \\\n",
    "python -u alphafold3/run_alphafold.py \\\n",
    "--json_path=af_input_ECD_Immunoglobulin/folder_3/IL6ST_NCR1.json \\\n",
    "--output_dir=af_output_ECD_Immunoglobulin \\\n",
    "--model_dir=af_models \\\n",
    "--jax_compilation_cache_dir=af_cache/cache \\\n",
    "--norun_data_pipeline | tee run.log"
   ]
  }
 ],
 "metadata": {
  "kernelspec": {
   "display_name": "python3",
   "language": "python",
   "name": "python3"
  }
 },
 "nbformat": 4,
 "nbformat_minor": 5
}
