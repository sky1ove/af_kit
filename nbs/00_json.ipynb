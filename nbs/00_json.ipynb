{
 "cells": [
  {
   "cell_type": "markdown",
   "id": "171844c7-6e1d-45fe-ad40-fd09c67e141a",
   "metadata": {},
   "source": [
    "# Generate json"
   ]
  },
  {
   "cell_type": "code",
   "execution_count": null,
   "id": "961bd4d9-eee0-4a5e-a942-fb66405f6af1",
   "metadata": {},
   "outputs": [],
   "source": [
    "#| default_exp json"
   ]
  },
  {
   "cell_type": "code",
   "execution_count": null,
   "id": "1d0467e3-9fcb-4e07-a59f-58405b640950",
   "metadata": {},
   "outputs": [],
   "source": [
    "#| export\n",
    "import shutil, json, pandas as pd\n",
    "from pathlib import Path"
   ]
  },
  {
   "cell_type": "markdown",
   "id": "55a88fc1-712d-4e0b-9a0d-741541040cce",
   "metadata": {},
   "source": [
    "## Single protein sequence (default)\n",
    "> Default pipeline, will run MSA and template search"
   ]
  },
  {
   "cell_type": "code",
   "execution_count": null,
   "id": "62063f37-32aa-4a12-8e57-29ef4fff1413",
   "metadata": {},
   "outputs": [],
   "source": [
    "#| export\n",
    "def dump_json(data, save_path):\n",
    "    \"Save json data into a file\"\n",
    "    with open(save_path,'w') as f: \n",
    "        json.dump(data,f,indent=4)"
   ]
  },
  {
   "cell_type": "code",
   "execution_count": null,
   "id": "14d9fdb5-7e05-47f6-b596-9d751f9f5618",
   "metadata": {},
   "outputs": [],
   "source": [
    "#| export\n",
    "def get_protein_json(name, # job name\n",
    "                     seq, # aa sequence\n",
    "                     save_path=None, # .json\n",
    "                     seeds=[1]\n",
    "                     ):\n",
    "    \"Generate json of single protein sequence for input of docker command\"\n",
    "    \n",
    "    json_data = {\n",
    "        \"name\": name,\n",
    "        \"modelSeeds\": seeds,\n",
    "        \"sequences\": [\n",
    "            {\n",
    "                \"protein\": {\n",
    "                    \"id\": \"A\",\n",
    "                    \"sequence\": seq,\n",
    "                }\n",
    "            },\n",
    "        ],\n",
    "        \"bondedAtomPairs\": [],\n",
    "        \"dialect\": \"alphafold3\",\n",
    "        \"version\": 2\n",
    "    }\n",
    "    if save_path:\n",
    "        Path(save_path).parent.mkdir(parents=True, exist_ok=True)\n",
    "        dump_json(json_data,save_path)\n",
    "    return json_data"
   ]
  },
  {
   "cell_type": "code",
   "execution_count": null,
   "id": "bfccc623-ebaf-4a10-a597-c0a42e400be7",
   "metadata": {},
   "outputs": [
    {
     "data": {
      "text/plain": [
       "{'name': 'proteinA',\n",
       " 'modelSeeds': [1, 2, 3],\n",
       " 'sequences': [{'protein': {'id': 'A', 'sequence': 'AAA'}}],\n",
       " 'bondedAtomPairs': [],\n",
       " 'dialect': 'alphafold3',\n",
       " 'version': 2}"
      ]
     },
     "execution_count": null,
     "metadata": {},
     "output_type": "execute_result"
    }
   ],
   "source": [
    "data = get_protein_json('proteinA','AAA','data/proteinA.json',seeds=[1,2,3])\n",
    "data"
   ]
  },
  {
   "cell_type": "markdown",
   "id": "9c18529b-4559-4c12-abc8-eb81522a12b4",
   "metadata": {},
   "source": [
    "## Protein-SMILES"
   ]
  },
  {
   "cell_type": "markdown",
   "id": "57bbff2b-e2b8-424c-922c-98b5e3135616",
   "metadata": {},
   "source": [
    "- First run the normal `sequence only` pipeline for the protein\n",
    "- Get the output data.json file, read it, load the `[\"sequences\"][0][\"protein\"]`"
   ]
  },
  {
   "cell_type": "code",
   "execution_count": null,
   "id": "9bb34b3b-e90f-4112-a947-aee8a8610335",
   "metadata": {},
   "outputs": [],
   "source": [
    "#| export\n",
    "def read_json(file_path):\n",
    "    with open(file_path,'r') as f: \n",
    "        data = json.load(f)\n",
    "    return data"
   ]
  },
  {
   "cell_type": "code",
   "execution_count": null,
   "id": "f75a6cc9-8932-451e-b2a4-78993501b163",
   "metadata": {},
   "outputs": [],
   "source": [
    "protein_json = read_json('data/seq_only_data.json')"
   ]
  },
  {
   "cell_type": "code",
   "execution_count": null,
   "id": "b9490613-30cd-4cf9-93a7-0e53a6645932",
   "metadata": {},
   "outputs": [],
   "source": [
    "#| export\n",
    "def get_protein_smiles_json(smi_id:str, \n",
    "                            SMILES:str, \n",
    "                            protein_json, # json type\n",
    "                            save_path=None, # .json\n",
    "                            seeds=[1]\n",
    "                            ):\n",
    "    \n",
    "    \"Get json for protein-ligand docking task\"\n",
    "    \n",
    "    json_data = {\n",
    "        \"name\": smi_id,\n",
    "        \"modelSeeds\": seeds,\n",
    "        \"sequences\": [\n",
    "            {\n",
    "                \"ligand\": {\n",
    "                    \"id\": \"L\",\n",
    "                    \"smiles\": SMILES,\n",
    "                }\n",
    "            }, \n",
    "            {\n",
    "                \"protein\": protein_json[\"sequences\"][0][\"protein\"]\n",
    "            },\n",
    "        ],\n",
    "        \"bondedAtomPairs\": [],\n",
    "        \"dialect\": \"alphafold3\",\n",
    "        \"version\": 2\n",
    "    }\n",
    "    if save_path:\n",
    "        Path(save_path).parent.mkdir(parents=True, exist_ok=True)\n",
    "        dump_json(json_data,save_path)\n",
    "    return json_data"
   ]
  },
  {
   "cell_type": "code",
   "execution_count": null,
   "id": "1b02bb8e-c65d-4481-9488-4c865575bcea",
   "metadata": {},
   "outputs": [],
   "source": [
    "out = get_protein_smiles_json('smi_name','CCC',protein_json,'data/protein_smi.json',seeds=[1,2,3])"
   ]
  },
  {
   "cell_type": "markdown",
   "id": "c03b2597-1655-4066-9bcd-0e5fb7accf15",
   "metadata": {},
   "source": [
    "Let's take a look for the json:"
   ]
  },
  {
   "cell_type": "code",
   "execution_count": null,
   "id": "1cc39bf3-5ea3-444e-b070-fdc5ab65c5ff",
   "metadata": {},
   "outputs": [
    {
     "data": {
      "text/plain": [
       "\"{'name': 'smi_name', 'modelSeeds': [1, 2, 3], 'sequences': [{'ligand': {'id': 'L', 'smiles': 'CCC'}}\""
      ]
     },
     "execution_count": null,
     "metadata": {},
     "output_type": "execute_result"
    }
   ],
   "source": [
    "str(out)[:100]"
   ]
  },
  {
   "cell_type": "code",
   "execution_count": null,
   "id": "fdd72269-0165-4d2e-bc67-036653c897ad",
   "metadata": {},
   "outputs": [
    {
     "data": {
      "text/html": [
       "<div>\n",
       "<style scoped>\n",
       "    .dataframe tbody tr th:only-of-type {\n",
       "        vertical-align: middle;\n",
       "    }\n",
       "\n",
       "    .dataframe tbody tr th {\n",
       "        vertical-align: top;\n",
       "    }\n",
       "\n",
       "    .dataframe thead th {\n",
       "        text-align: right;\n",
       "    }\n",
       "</style>\n",
       "<table border=\"1\" class=\"dataframe\">\n",
       "  <thead>\n",
       "    <tr style=\"text-align: right;\">\n",
       "      <th></th>\n",
       "      <th>idx</th>\n",
       "      <th>smi</th>\n",
       "    </tr>\n",
       "  </thead>\n",
       "  <tbody>\n",
       "    <tr>\n",
       "      <th>0</th>\n",
       "      <td>a</td>\n",
       "      <td>CCC</td>\n",
       "    </tr>\n",
       "    <tr>\n",
       "      <th>1</th>\n",
       "      <td>b</td>\n",
       "      <td>OCO</td>\n",
       "    </tr>\n",
       "  </tbody>\n",
       "</table>\n",
       "</div>"
      ],
      "text/plain": [
       "  idx  smi\n",
       "0   a  CCC\n",
       "1   b  OCO"
      ]
     },
     "execution_count": null,
     "metadata": {},
     "output_type": "execute_result"
    }
   ],
   "source": [
    "df = pd.DataFrame({'idx':['a','b'],'smi':['CCC','OCO']})\n",
    "df"
   ]
  },
  {
   "cell_type": "code",
   "execution_count": null,
   "id": "ca841b8e-0bdb-41cf-a38c-79e47dda2217",
   "metadata": {},
   "outputs": [],
   "source": [
    "project_name='sdf'\n",
    "for idx, smi in df.values:\n",
    "    _ = get_protein_smiles_json(idx,smi,protein_json,f'af_input/{project_name}/{idx}.json',seeds=[1,2,3])"
   ]
  },
  {
   "cell_type": "markdown",
   "id": "733be8ba-c063-49e3-925a-4ad2cdd29514",
   "metadata": {},
   "source": [
    "## Split the files to subfolder for multi-GPUs"
   ]
  },
  {
   "cell_type": "code",
   "execution_count": null,
   "id": "c7f16eec-082a-4233-b3ed-b96d58ecedb4",
   "metadata": {},
   "outputs": [],
   "source": [
    "#| export\n",
    "def split_nfolder(folder_dir, \n",
    "                  n=4):\n",
    "    \"Move json files from a folder into subfolders (folder_0, folder_1, ..., folder_N).\"\n",
    "    \n",
    "    folder_dir = Path(folder_dir)\n",
    "\n",
    "    files = sorted(folder_dir.glob(\"*.json\"))\n",
    "    # print(len(files))\n",
    "    subfolders = [folder_dir / f\"folder_{i}\" for i in range(n)]\n",
    "    for folder in subfolders:\n",
    "        folder.mkdir(exist_ok=True)\n",
    "\n",
    "    for idx, file in enumerate(files):\n",
    "        target_folder = subfolders[idx % n]\n",
    "        shutil.move(str(file), target_folder / file.name)\n",
    "\n",
    "    print(f\"Distributed {len(files)} files into {n} folders.\")"
   ]
  },
  {
   "cell_type": "code",
   "execution_count": null,
   "id": "23451870-bd63-49ae-9732-6d3c30c677d8",
   "metadata": {},
   "outputs": [
    {
     "name": "stdout",
     "output_type": "stream",
     "text": [
      "Distributed 2 files into 4 folders.\n"
     ]
    }
   ],
   "source": [
    "split_nfolder(f'af_input/{project_name}')"
   ]
  },
  {
   "cell_type": "markdown",
   "id": "6a94c033-c73d-47ea-9d9c-34f62cd155fb",
   "metadata": {},
   "source": [
    "## End"
   ]
  },
  {
   "cell_type": "code",
   "execution_count": null,
   "id": "6b7dd2e2-bfd5-4a60-b815-1a05afd6d880",
   "metadata": {},
   "outputs": [],
   "source": [
    "#| hide\n",
    "import nbdev; nbdev.nbdev_export()"
   ]
  },
  {
   "cell_type": "code",
   "execution_count": null,
   "id": "97d9e75a-1f5b-4ac5-a661-f777bdd0ddb5",
   "metadata": {},
   "outputs": [],
   "source": []
  }
 ],
 "metadata": {
  "kernelspec": {
   "display_name": "python3",
   "language": "python",
   "name": "python3"
  }
 },
 "nbformat": 4,
 "nbformat_minor": 5
}
