{
 "cells": [
  {
   "cell_type": "markdown",
   "id": "dc78219e-5aa9-4c04-8668-4adc696bcc6c",
   "metadata": {},
   "source": [
    "# Analyze output"
   ]
  },
  {
   "cell_type": "markdown",
   "id": "845029df-6b6c-4904-a6ef-747eec2f2baa",
   "metadata": {},
   "source": [
    "## Setup"
   ]
  },
  {
   "cell_type": "code",
   "execution_count": null,
   "id": "af349d75-2b72-471d-ac69-83f64e087450",
   "metadata": {},
   "outputs": [],
   "source": [
    "#| default_exp analyze"
   ]
  },
  {
   "cell_type": "code",
   "execution_count": null,
   "id": "31a10dcb-adf1-4d5b-bc78-97979e1711f8",
   "metadata": {},
   "outputs": [],
   "source": [
    "#| export\n",
    "from af_kit.core import *\n",
    "from pathlib import Path\n",
    "from adjustText import adjust_text\n",
    "import re, json,shutil, pandas as pd\n",
    "import matplotlib.pyplot as plt\n",
    "import plotly.graph_objects as go"
   ]
  },
  {
   "cell_type": "markdown",
   "id": "80b30a50-c3f3-4251-83a4-db3f693dc20c",
   "metadata": {},
   "source": [
    "## Read summary confidences json"
   ]
  },
  {
   "cell_type": "code",
   "execution_count": null,
   "id": "0bbf123e-729e-4a98-b9ac-e24617dd773a",
   "metadata": {},
   "outputs": [],
   "source": [
    "#| export\n",
    "def read_summary_json(json_path):\n",
    "    \"Read json file to dictionary\"\n",
    "    json_path = Path(json_path)\n",
    "    json_data=json.loads(json_path.read_text())\n",
    "        \n",
    "    # Flatten the JSON data into a single row\n",
    "    row = {\"ID\": json_path.stem}\n",
    "    for key, value in json_data.items():\n",
    "        if isinstance(value, list):\n",
    "            for idx, sub_value in enumerate(value):\n",
    "                if isinstance(sub_value, list):\n",
    "                    for sub_idx, sub_sub_value in enumerate(sub_value):\n",
    "                        row[f\"{key}_{idx}_{sub_idx}\"] = sub_sub_value\n",
    "                else:\n",
    "                    row[f\"{key}_{idx}\"] = sub_value\n",
    "        else:\n",
    "            row[key] = value\n",
    "    return row"
   ]
  },
  {
   "cell_type": "code",
   "execution_count": null,
   "id": "3e9d2cf9-e422-4139-b20e-6409bebb5c34",
   "metadata": {},
   "outputs": [
    {
     "data": {
      "text/plain": [
       "{'ID': 'seq_only_summary_confidences',\n",
       " 'chain_iptm_0': None,\n",
       " 'chain_pair_iptm_0_0': 0.72,\n",
       " 'chain_pair_pae_min_0_0': 0.76,\n",
       " 'chain_ptm_0': 0.72,\n",
       " 'fraction_disordered': 0.19,\n",
       " 'has_clash': 0.0,\n",
       " 'iptm': None,\n",
       " 'ptm': 0.72,\n",
       " 'ranking_score': 0.82}"
      ]
     },
     "execution_count": null,
     "metadata": {},
     "output_type": "execute_result"
    }
   ],
   "source": [
    "data = read_summary_json('data/seq_only_summary_confidences.json')\n",
    "data"
   ]
  },
  {
   "cell_type": "code",
   "execution_count": null,
   "id": "97bdbb16-6658-4762-9e37-9e8d19b41b78",
   "metadata": {},
   "outputs": [],
   "source": [
    "#| export\n",
    "def get_summary_df(output_dir):\n",
    "    \"Pack the summary json from the output folder to the df\"\n",
    "    \n",
    "    path_list = list(Path(output_dir).rglob('*_summary_confidences.json'))\n",
    "    print(len(path_list),'summary_confidences.json files detected')\n",
    "    return pd.DataFrame(list(map(read_summary_json,path_list)))"
   ]
  },
  {
   "cell_type": "code",
   "execution_count": null,
   "id": "47fc5d74-05c8-4ff5-b5a3-5a4096c479a4",
   "metadata": {},
   "outputs": [
    {
     "name": "stdout",
     "output_type": "stream",
     "text": [
      "1 summary_confidences.json files detected\n"
     ]
    },
    {
     "data": {
      "text/html": [
       "<div>\n",
       "<style scoped>\n",
       "    .dataframe tbody tr th:only-of-type {\n",
       "        vertical-align: middle;\n",
       "    }\n",
       "\n",
       "    .dataframe tbody tr th {\n",
       "        vertical-align: top;\n",
       "    }\n",
       "\n",
       "    .dataframe thead th {\n",
       "        text-align: right;\n",
       "    }\n",
       "</style>\n",
       "<table border=\"1\" class=\"dataframe\">\n",
       "  <thead>\n",
       "    <tr style=\"text-align: right;\">\n",
       "      <th></th>\n",
       "      <th>ID</th>\n",
       "      <th>chain_iptm_0</th>\n",
       "      <th>chain_pair_iptm_0_0</th>\n",
       "      <th>chain_pair_pae_min_0_0</th>\n",
       "      <th>chain_ptm_0</th>\n",
       "      <th>fraction_disordered</th>\n",
       "      <th>has_clash</th>\n",
       "      <th>iptm</th>\n",
       "      <th>ptm</th>\n",
       "      <th>ranking_score</th>\n",
       "    </tr>\n",
       "  </thead>\n",
       "  <tbody>\n",
       "    <tr>\n",
       "      <th>0</th>\n",
       "      <td>seq_only_summary_confidences</td>\n",
       "      <td>None</td>\n",
       "      <td>0.72</td>\n",
       "      <td>0.76</td>\n",
       "      <td>0.72</td>\n",
       "      <td>0.19</td>\n",
       "      <td>0.0</td>\n",
       "      <td>None</td>\n",
       "      <td>0.72</td>\n",
       "      <td>0.82</td>\n",
       "    </tr>\n",
       "  </tbody>\n",
       "</table>\n",
       "</div>"
      ],
      "text/plain": [
       "                             ID chain_iptm_0  chain_pair_iptm_0_0  \\\n",
       "0  seq_only_summary_confidences         None                 0.72   \n",
       "\n",
       "   chain_pair_pae_min_0_0  chain_ptm_0  fraction_disordered  has_clash  iptm  \\\n",
       "0                    0.76         0.72                 0.19        0.0  None   \n",
       "\n",
       "    ptm  ranking_score  \n",
       "0  0.72           0.82  "
      ]
     },
     "execution_count": null,
     "metadata": {},
     "output_type": "execute_result"
    }
   ],
   "source": [
    "out = get_summary_df('data')\n",
    "out"
   ]
  },
  {
   "cell_type": "markdown",
   "id": "d1f031e7-c61b-4cba-972f-a05e824c9959",
   "metadata": {},
   "source": [
    "## Specific for protein pairs"
   ]
  },
  {
   "cell_type": "code",
   "execution_count": null,
   "id": "6eb5fd7c-12a8-45ea-9746-46eba5f7e561",
   "metadata": {},
   "outputs": [],
   "source": [
    "#| export\n",
    "def process_summary_df(df,generate_report=False):\n",
    "    \"Post process the json-converted pandas df; remove redundant columns; available for pairs\"\n",
    "    \n",
    "    df['ID'] = df.ID.str.replace('_summary_confidences','')\n",
    "    df = df.set_index('ID')\n",
    "\n",
    "    # drop zero std columns: usually contains chain_pair_pae_min_0_0 and has_clash\n",
    "    zero_std_cols = df.columns[df.std()<1e-10]\n",
    "    df=df.drop(columns=zero_std_cols)\n",
    "\n",
    "    # drop columns with same values\n",
    "    redundant_columns = []\n",
    "    \n",
    "    # Check for columns equal to `iptm`\n",
    "    for col in ['chain_iptm_0', 'chain_iptm_1', 'chain_pair_iptm_0_1', 'chain_pair_iptm_1_0']:\n",
    "        if df['iptm'].equals(df[col]):\n",
    "            redundant_columns.append(col)\n",
    "    \n",
    "    # Check for columns equal to `chain_ptm_0`\n",
    "    if df['chain_ptm_0'].equals(df['chain_pair_iptm_0_0']):\n",
    "        redundant_columns.append('chain_pair_iptm_0_0')\n",
    "    \n",
    "    # Check for columns equal to `chain_ptm_1`\n",
    "    if df['chain_ptm_1'].equals(df['chain_pair_iptm_1_1']):\n",
    "        redundant_columns.append('chain_pair_iptm_1_1')\n",
    "    \n",
    "    # Drop redundant columns\n",
    "    df = df.drop(columns=redundant_columns)\n",
    "    \n",
    "    if generate_report:\n",
    "        print('Generating pairplot graph report')\n",
    "        sns.pairplot(data=df, corner=True)\n",
    "        plt.savefig(\"af_report.pdf\")\n",
    "        plt.close()\n",
    "        print('Export to af_report.pdf')\n",
    "\n",
    "    # add iptm and ptm\n",
    "    df['iptm_ptm_add'] = df['iptm']+df['ptm']\n",
    "\n",
    "    # inter error add\n",
    "    df['chain_pair_pae_min_add'] = df['chain_pair_pae_min_0_1']+df['chain_pair_pae_min_1_0']\n",
    "\n",
    "    # rank iptm and ptm and add the rank, this method can ignore the different value range between iptm and ptm\n",
    "    df['iptm_rnk'],df['ptm_rnk'] = df.iptm.rank(ascending=False), df.ptm.rank(ascending=False)\n",
    "    df['iptm_ptm_rnk_add'] = df['iptm_rnk']+df['ptm_rnk']\n",
    "\n",
    "    # combine chain_pair_pae_min & iptm rank\n",
    "    df['chain_pair_pae_min_add_rnk'] = df['chain_pair_pae_min_add'].rank()\n",
    "    df['iptm_pae_add_rnk'] = df['chain_pair_pae_min_add_rnk'] + df['iptm_rnk']\n",
    "    \n",
    "    return df"
   ]
  },
  {
   "cell_type": "code",
   "execution_count": null,
   "id": "f777d355-0c5d-4dfd-89cb-b65a7c9bbe61",
   "metadata": {},
   "outputs": [],
   "source": [
    "# it's only available for protein pairs\n",
    "# out2 = process_summary_df(out)"
   ]
  },
  {
   "cell_type": "code",
   "execution_count": null,
   "id": "d2f58c6f-1efe-4668-b95d-13228a8a33bb",
   "metadata": {},
   "outputs": [],
   "source": [
    "#| export\n",
    "def get_top_genes(df,n=30):\n",
    "    \"Get top genes from the metric\"\n",
    "    idxs = set()\n",
    "    \n",
    "    big_cols = ['ranking_score', 'iptm', 'iptm_ptm_add']\n",
    "    small_cols = [\n",
    "        'iptm_ptm_rnk_add', \n",
    "        'chain_pair_pae_min_add', \n",
    "        'chain_pair_pae_min_0_1', \n",
    "        'chain_pair_pae_min_1_0', \n",
    "        'iptm_pae_add_rnk'\n",
    "    ]\n",
    "    \n",
    "    for col in big_cols: idxs.update(df.nlargest(n, col).index)\n",
    "    for col in small_cols: idxs.update(df.nsmallest(n, col).index)\n",
    "\n",
    "    return list(idxs)"
   ]
  },
  {
   "cell_type": "code",
   "execution_count": null,
   "id": "9d59bb77-118e-4e74-94fb-bb2adb4f4f96",
   "metadata": {},
   "outputs": [],
   "source": [
    "# genes = get_top_genes(out2)"
   ]
  },
  {
   "cell_type": "code",
   "execution_count": null,
   "id": "67fa9469-ed77-4a26-962e-2612f05871e8",
   "metadata": {},
   "outputs": [],
   "source": [
    "#| export\n",
    "def get_3d_report(df,index_list, x='iptm',y='ptm',z='chain_pair_pae_min_add',save_dir='af_report'):\n",
    "    \"Plot plotly 3d\"\n",
    "    annotation = df.index.where(df.index.isin(index_list),'').str.split('_').str[1]\n",
    "\n",
    "    # Create the 3D scatter plot\n",
    "    fig = go.Figure(data=go.Scatter3d(\n",
    "        x=df[x],\n",
    "        y=df[y],\n",
    "        z=df[z],\n",
    "        mode='markers+text',\n",
    "        text=annotation,  # Annotation using the index\n",
    "        textposition=\"top center\",\n",
    "        marker=dict(size=8, color='blue', opacity=0.8),\n",
    "    ))\n",
    "    \n",
    "    # Customize layout\n",
    "    fig.update_layout(\n",
    "        scene=dict(\n",
    "            xaxis_title=x,\n",
    "            yaxis_title=y,\n",
    "            zaxis_title=z,\n",
    "        ),\n",
    "        title='3D Scatter Plot',\n",
    "        autosize=True,\n",
    "        height=3000,\n",
    "    )\n",
    "    \n",
    "    fig.write_html(Path(save_dir)/'3d_scatter_plot.html',full_html=True)\n",
    "    print('Exported the html to 3d_scatter_plot.html')"
   ]
  },
  {
   "cell_type": "code",
   "execution_count": null,
   "id": "0f43a7fa-5201-4721-b287-878cf4a5e5f6",
   "metadata": {},
   "outputs": [],
   "source": [
    "# get_3d_report(out2,genes)"
   ]
  },
  {
   "cell_type": "code",
   "execution_count": null,
   "id": "987e173c-4035-49f3-95a9-83607fa0d1fa",
   "metadata": {},
   "outputs": [],
   "source": [
    "#| export\n",
    "def get_report(out_dir,save_dir='af_report'):\n",
    "    \n",
    "    out = get_summary_df(out_dir)\n",
    "    out = process_summary_df(out)\n",
    "    top_genes = get_top_genes(out)\n",
    "    \n",
    "    Path(save_dir).mkdir(exist_ok=True)\n",
    "    get_3d_report(out,top_genes,save_dir=save_dir)\n",
    "    out.to_csv(Path(save_dir)/'summary_confidences.csv')\n",
    "    \n",
    "    return out, top_genes"
   ]
  },
  {
   "cell_type": "markdown",
   "id": "7d77e530-357f-46a3-acb4-72804d543dc9",
   "metadata": {},
   "source": [
    "```python\n",
    "df_sum, top_genes = get_report('af_output/data','af_report/proteinA')\n",
    "```"
   ]
  },
  {
   "cell_type": "markdown",
   "id": "26c9abc8-3001-494f-83a9-121fdcb397c5",
   "metadata": {},
   "source": [
    "```python\n",
    "df_sum.sort_values('iptm_ptm_rnk_add').head(10)\n",
    "```"
   ]
  },
  {
   "cell_type": "code",
   "execution_count": null,
   "id": "472776f8-b69d-4f24-b3f4-dfaf598e9d95",
   "metadata": {},
   "outputs": [],
   "source": [
    "from fastcore.utils import L"
   ]
  },
  {
   "cell_type": "code",
   "execution_count": null,
   "id": "5c5d2d0d-54c0-4ce8-bec8-93cbbe2765f4",
   "metadata": {},
   "outputs": [],
   "source": [
    "#| export\n",
    "def copy_file(idx_name, source_dir, dest_dir):\n",
    "    source_path = Path(source_dir)/f\"{idx_name}/{idx_name}_model.cif\"\n",
    "    dest_path = Path(dest_dir)/f\"{idx_name}_model.cif\"\n",
    "    shutil.copy(source_path,dest_path)\n",
    "    print(f'Copying {str(source_path)} to {str(dest_path)}')"
   ]
  },
  {
   "cell_type": "markdown",
   "id": "85a70e36-b8b9-40be-bdf3-1cd2a537c03e",
   "metadata": {},
   "source": [
    "```python\n",
    "copy_file('proA_proB',source_dir='af_output/proA',dest_dir='af_top')\n",
    "# Or \n",
    "L(top_genes).map(copy_file,source_dir='af_output/proA',dest_dir='af_top')\n",
    "```"
   ]
  },
  {
   "cell_type": "markdown",
   "id": "2604f232-301b-45ee-ba9c-ff320e491a16",
   "metadata": {},
   "source": [
    "## End"
   ]
  },
  {
   "cell_type": "code",
   "execution_count": null,
   "id": "0e3203e7-055b-493d-8643-8671158059f3",
   "metadata": {},
   "outputs": [],
   "source": [
    "#| hide\n",
    "import nbdev; nbdev.nbdev_export()"
   ]
  },
  {
   "cell_type": "code",
   "execution_count": null,
   "id": "f8187c89-f7fd-400d-9690-5f792a20989e",
   "metadata": {},
   "outputs": [],
   "source": []
  }
 ],
 "metadata": {
  "kernelspec": {
   "display_name": "python3",
   "language": "python",
   "name": "python3"
  }
 },
 "nbformat": 4,
 "nbformat_minor": 5
}
