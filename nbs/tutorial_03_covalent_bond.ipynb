{
 "cells": [
  {
   "cell_type": "raw",
   "id": "17ea25c4-37e6-4377-a2d6-ee02683786fd",
   "metadata": {},
   "source": [
    "---\n",
    "skip_showdoc: true\n",
    "skip_exec: true\n",
    "---"
   ]
  },
  {
   "cell_type": "markdown",
   "id": "0409bc66-0a13-4743-87a4-d31ec461a72a",
   "metadata": {},
   "source": [
    "# Covalent bond small inhibitor"
   ]
  },
  {
   "cell_type": "markdown",
   "id": "d6663f44-4b25-48f5-824e-2ae3485512d4",
   "metadata": {},
   "source": [
    "## Reference"
   ]
  },
  {
   "cell_type": "markdown",
   "id": "d234e2b6-c088-45b4-b7b1-56b1ca7d3b55",
   "metadata": {},
   "source": [
    "github AF3 issues: https://github.com/google-deepmind/alphafold3/issues/159\n"
   ]
  },
  {
   "cell_type": "markdown",
   "id": "fa143eb7-9a58-4f24-a090-410785dabbfd",
   "metadata": {},
   "source": [
    "## Setup"
   ]
  },
  {
   "cell_type": "code",
   "execution_count": null,
   "id": "ed02cb60-fc5e-4469-92dd-7890bd751057",
   "metadata": {},
   "outputs": [],
   "source": [
    "from af_kit.core import *\n",
    "from af_kit.covalent import *\n",
    "import pandas as pd"
   ]
  },
  {
   "cell_type": "markdown",
   "id": "f1702e18-f722-4cf8-b56c-5e3eb736f84c",
   "metadata": {},
   "source": [
    "## Prepare json file"
   ]
  },
  {
   "cell_type": "code",
   "execution_count": null,
   "id": "63fe4e2e-09d9-4ff0-89a1-017daab91e87",
   "metadata": {},
   "outputs": [],
   "source": [
    "seq='HHHHHHAPNQALLRILKETEFKKIKVLGSGAFGTVYKGLWIPEGEKVKIPVAIKELREATSPKANKEILDEAYVMASVDNPHVCRLLGICLTSTVQLIMQLMPFGCLLDYVREHKDNIGSQYLLNWCVQIAKGMNYLEDRRLVHRDLAARNVLVKTPQHVKITDFGRAKLLGAEEKEYHAEGGKVPIKWMALESILHRIYTHQSDVWSYGVTVWELMTFGSKPYDGIPASEISSILEKGERLPQPPICTIDVYMIMVKCWMIDADSRPKFRELIIEFSKMARDPQRYLVIQGDERMHLPSPTDSNFYRALMDEEDMDDVVDADEYLIPQQG'"
   ]
  },
  {
   "cell_type": "code",
   "execution_count": null,
   "id": "86d37f31-6ac2-4e06-96ac-c4daee8a13fb",
   "metadata": {},
   "outputs": [],
   "source": [
    "protein_json = get_protein_json('proteinA',seq,'data/proteinA.json',seeds=[1])"
   ]
  },
  {
   "cell_type": "code",
   "execution_count": null,
   "id": "567d3037-6420-46df-ae3a-52ec67ec6c56",
   "metadata": {},
   "outputs": [
    {
     "data": {
      "text/plain": [
       "{'name': 'proteinA',\n",
       " 'modelSeeds': [1],\n",
       " 'sequences': [{'protein': {'id': 'A',\n",
       "    'sequence': 'HHHHHHAPNQALLRILKETEFKKIKVLGSGAFGTVYKGLWIPEGEKVKIPVAIKELREATSPKANKEILDEAYVMASVDNPHVCRLLGICLTSTVQLIMQLMPFGCLLDYVREHKDNIGSQYLLNWCVQIAKGMNYLEDRRLVHRDLAARNVLVKTPQHVKITDFGRAKLLGAEEKEYHAEGGKVPIKWMALESILHRIYTHQSDVWSYGVTVWELMTFGSKPYDGIPASEISSILEKGERLPQPPICTIDVYMIMVKCWMIDADSRPKFRELIIEFSKMARDPQRYLVIQGDERMHLPSPTDSNFYRALMDEEDMDDVVDADEYLIPQQG'}}],\n",
       " 'bondedAtomPairs': [],\n",
       " 'dialect': 'alphafold3',\n",
       " 'version': 2}"
      ]
     },
     "execution_count": null,
     "metadata": {},
     "output_type": "execute_result"
    }
   ],
   "source": [
    "protein_json"
   ]
  },
  {
   "cell_type": "markdown",
   "id": "860ded4b-18f4-42f0-a9ca-b1b2247e4ccc",
   "metadata": {},
   "source": [
    "## Prepare ligand"
   ]
  },
  {
   "cell_type": "markdown",
   "id": "07052d41-6bfe-4a65-beb7-15f7cabe7494",
   "metadata": {},
   "source": [
    "Load pdb in maestro, split complex, save ligand (without covalent bond) into pdb\n",
    "\n",
    "Convert the pdb to ccd"
   ]
  },
  {
   "cell_type": "code",
   "execution_count": null,
   "id": "8bff3191-1622-4ef0-b3f0-7c55d13c18d7",
   "metadata": {},
   "outputs": [],
   "source": [
    "ccd_text = sdf2ccd('lig-HKI.sdf')"
   ]
  },
  {
   "cell_type": "code",
   "execution_count": null,
   "id": "5ff95ccc-7022-4e7e-b635-44eaabd811a7",
   "metadata": {},
   "outputs": [
    {
     "data": {
      "text/plain": [
       "\"data_lig-any\\n#\\n_chem_comp.id lig-any\\n_chem_comp.name 'lig-any'\\n_chem_comp.type non-polymer\\n_chem_comp.formula '?'\\n_chem_comp.mon_nstd_parent_comp_id ?\\n_chem_comp.pdbx_synonyms ?\\n_chem_comp.formula_weight '?'\\n#\\nloop_\\n_chem_comp_atom.comp_id\\n_chem_comp_atom.atom_id\\n_chem_comp_atom.type_symbol\\n_chem_comp_atom.charge\\n_chem_comp_atom.pdbx_leaving_atom_flag\\n_chem_comp_atom.pdbx_model_Cartn_x_ideal\\n_chem_comp_atom.pdbx_model_Cartn_y_ideal\\n_chem_comp_atom.pdbx_model_Cartn_z_ideal\\nlig-any C1 C 0 N 1.654 24.013 52.956\\nlig-any C2 C 0 N 1.438 32.804 50.984\\nlig-any C3 C 0 N 0.712 33.151 49.868\\nlig-any C4 C 0 N -0.692 25.377 50.586\\nlig-any C5 C 0 N -0.322 26.674 50.279\\nlig-any C6 C 0 N 1.518 31.470 51.317\\nlig-any C7 C 0 N -0.243 20.239 50.608\\nlig-any C8 C 0 N 1.486 18.601 51.967\\nlig-any C9 C 0 N 1.586 24.734 50.460\\nlig-any C10 C 0 N 0.101 32.158 49.137\\nlig-any C11 C 0 N 2.414 21.749 53.291\\nlig-any C12 C 0 N 1.591 22.631 52.634\\nlig-any C13 C 0 N 0.661 20.790 51.497\\nlig-any C14 C 0 N 1.536 19.963 52.199\\nlig-any C15 C 0 N 0.256 24.378 50.677\\nlig-any C16 C 0 N -0.289 18.874 50.388\\nlig-any C17 C 0 N 0.679 22.164 51.710\\nlig-any C18 C 0 N 1.009 26.999 50.081\\nlig-any C19 C 0 N 0.589 18.055 51.071\\nlig-any C20 C 0 N 1.985 26.032 50.174\\nlig-any C21 C 0 N 0.874 30.542 50.526\\nlig-any C22 C 0 N -2.591 18.634 49.703\\nlig-any C23 C 0 N 1.402 14.519 51.149\\nlig-any C24 C 0 N -7.831 18.607 48.749\\nlig-any C25 C 0 N -7.717 17.604 46.668\\nlig-any C26 C 0 N 0.962 29.094 50.896\\nlig-any C27 C 0 N -3.554 17.670 49.067\\nlig-any C28 C 0 N -5.011 18.123 49.196\\nlig-any C29 C 0 N -5.726 17.713 47.913\\nlig-any C30 C 0 N 1.690 16.001 51.281\\nlig-any N31 N 0 N 1.622 25.129 53.300\\nlig-any N32 N 0 N 2.416 20.432 53.093\\nlig-any N33 N 0 N 0.164 30.856 49.437\\nlig-any N34 N 0 N -0.176 23.061 51.022\\nlig-any N35 N 0 N -1.237 18.341 49.477\\nlig-any N36 N 0 N -6.959 18.439 47.595\\nlig-any O37 O 0 N -3.018 19.579 50.358\\nlig-any O38 O 0 N 1.397 28.299 49.780\\nlig-any O39 O 0 N 0.523 16.689 50.833\\nlig-any Cl40 Cl 0 N 3.657 26.498 49.921\\n#\\nloop_\\n_chem_comp_bond.atom_id_1\\n_chem_comp_bond.atom_id_2\\n_chem_comp_bond.value_order\\n_chem_comp_bond.pdbx_aromatic_flag\\nC1 C12 SING N\\nC1 N31 TRIP N\\nC2 C3 DOUB N\\nC2 C6 SING N\\nC3 C10 SING N\\nC4 C5 DOUB N\\nC4 C15 SING N\\nC5 C18 SING N\\nC6 C21 DOUB N\\nC7 C13 DOUB N\\nC7 C16 SING N\\nC8 C14 DOUB N\\nC8 C19 SING N\\nC9 C15 DOUB N\\nC9 C20 SING N\\nC10 N33 DOUB N\\nC11 C12 SING N\\nC11 N32 DOUB N\\nC12 C17 DOUB N\\nC13 C14 SING N\\nC13 C17 SING N\\nC14 N32 SING N\\nC15 N34 SING N\\nC16 C19 DOUB N\\nC16 N35 SING N\\nC17 N34 SING N\\nC18 C20 DOUB N\\nC18 O38 SING N\\nC19 O39 SING N\\nC20 Cl40 SING N\\nC21 C26 SING N\\nC21 N33 SING N\\nC22 C27 SING N\\nC22 N35 SING N\\nC22 O37 DOUB N\\nC23 C30 SING N\\nC24 N36 SING N\\nC25 N36 SING N\\nC26 O38 SING N\\nC27 C28 SING N\\nC28 C29 SING N\\nC29 N36 SING N\\nC30 O39 SING N\\n#\""
      ]
     },
     "execution_count": null,
     "metadata": {},
     "output_type": "execute_result"
    }
   ],
   "source": [
    "ccd_text"
   ]
  },
  {
   "cell_type": "code",
   "execution_count": null,
   "id": "f1b4f478-a35a-41a9-a343-6bc888917b96",
   "metadata": {},
   "outputs": [],
   "source": [
    "data = get_protein_ccd_json(protein_json,\n",
    "                            ccd_text,\n",
    "                            ['A',101,'SG'],\n",
    "                            ['L',1,'C28'],\n",
    "                            '3W2Q_test',\n",
    "                            '3Q2Q.json')"
   ]
  },
  {
   "cell_type": "code",
   "execution_count": null,
   "id": "268976ea-358e-432f-a700-3d17707bc1aa",
   "metadata": {},
   "outputs": [
    {
     "data": {
      "text/plain": [
       "{'name': '3W2Q_test',\n",
       " 'modelSeeds': [1],\n",
       " 'sequences': [{'ligand': {'id': 'L', 'ccdCodes': ['lig-any']}},\n",
       "  {'protein': {'id': 'A',\n",
       "    'sequence': 'HHHHHHAPNQALLRILKETEFKKIKVLGSGAFGTVYKGLWIPEGEKVKIPVAIKELREATSPKANKEILDEAYVMASVDNPHVCRLLGICLTSTVQLIMQLMPFGCLLDYVREHKDNIGSQYLLNWCVQIAKGMNYLEDRRLVHRDLAARNVLVKTPQHVKITDFGRAKLLGAEEKEYHAEGGKVPIKWMALESILHRIYTHQSDVWSYGVTVWELMTFGSKPYDGIPASEISSILEKGERLPQPPICTIDVYMIMVKCWMIDADSRPKFRELIIEFSKMARDPQRYLVIQGDERMHLPSPTDSNFYRALMDEEDMDDVVDADEYLIPQQG'}}],\n",
       " 'bondedAtomPairs': [[['A', 101, 'SG'], ['L', 1, 'C28']]],\n",
       " 'userCCD': \"data_lig-any\\n#\\n_chem_comp.id lig-any\\n_chem_comp.name 'lig-any'\\n_chem_comp.type non-polymer\\n_chem_comp.formula '?'\\n_chem_comp.mon_nstd_parent_comp_id ?\\n_chem_comp.pdbx_synonyms ?\\n_chem_comp.formula_weight '?'\\n#\\nloop_\\n_chem_comp_atom.comp_id\\n_chem_comp_atom.atom_id\\n_chem_comp_atom.type_symbol\\n_chem_comp_atom.charge\\n_chem_comp_atom.pdbx_leaving_atom_flag\\n_chem_comp_atom.pdbx_model_Cartn_x_ideal\\n_chem_comp_atom.pdbx_model_Cartn_y_ideal\\n_chem_comp_atom.pdbx_model_Cartn_z_ideal\\nlig-any C1 C 0 N 1.654 24.013 52.956\\nlig-any C2 C 0 N 1.438 32.804 50.984\\nlig-any C3 C 0 N 0.712 33.151 49.868\\nlig-any C4 C 0 N -0.692 25.377 50.586\\nlig-any C5 C 0 N -0.322 26.674 50.279\\nlig-any C6 C 0 N 1.518 31.470 51.317\\nlig-any C7 C 0 N -0.243 20.239 50.608\\nlig-any C8 C 0 N 1.486 18.601 51.967\\nlig-any C9 C 0 N 1.586 24.734 50.460\\nlig-any C10 C 0 N 0.101 32.158 49.137\\nlig-any C11 C 0 N 2.414 21.749 53.291\\nlig-any C12 C 0 N 1.591 22.631 52.634\\nlig-any C13 C 0 N 0.661 20.790 51.497\\nlig-any C14 C 0 N 1.536 19.963 52.199\\nlig-any C15 C 0 N 0.256 24.378 50.677\\nlig-any C16 C 0 N -0.289 18.874 50.388\\nlig-any C17 C 0 N 0.679 22.164 51.710\\nlig-any C18 C 0 N 1.009 26.999 50.081\\nlig-any C19 C 0 N 0.589 18.055 51.071\\nlig-any C20 C 0 N 1.985 26.032 50.174\\nlig-any C21 C 0 N 0.874 30.542 50.526\\nlig-any C22 C 0 N -2.591 18.634 49.703\\nlig-any C23 C 0 N 1.402 14.519 51.149\\nlig-any C24 C 0 N -7.831 18.607 48.749\\nlig-any C25 C 0 N -7.717 17.604 46.668\\nlig-any C26 C 0 N 0.962 29.094 50.896\\nlig-any C27 C 0 N -3.554 17.670 49.067\\nlig-any C28 C 0 N -5.011 18.123 49.196\\nlig-any C29 C 0 N -5.726 17.713 47.913\\nlig-any C30 C 0 N 1.690 16.001 51.281\\nlig-any N31 N 0 N 1.622 25.129 53.300\\nlig-any N32 N 0 N 2.416 20.432 53.093\\nlig-any N33 N 0 N 0.164 30.856 49.437\\nlig-any N34 N 0 N -0.176 23.061 51.022\\nlig-any N35 N 0 N -1.237 18.341 49.477\\nlig-any N36 N 0 N -6.959 18.439 47.595\\nlig-any O37 O 0 N -3.018 19.579 50.358\\nlig-any O38 O 0 N 1.397 28.299 49.780\\nlig-any O39 O 0 N 0.523 16.689 50.833\\nlig-any Cl40 Cl 0 N 3.657 26.498 49.921\\n#\\nloop_\\n_chem_comp_bond.atom_id_1\\n_chem_comp_bond.atom_id_2\\n_chem_comp_bond.value_order\\n_chem_comp_bond.pdbx_aromatic_flag\\nC1 C12 SING N\\nC1 N31 TRIP N\\nC2 C3 DOUB N\\nC2 C6 SING N\\nC3 C10 SING N\\nC4 C5 DOUB N\\nC4 C15 SING N\\nC5 C18 SING N\\nC6 C21 DOUB N\\nC7 C13 DOUB N\\nC7 C16 SING N\\nC8 C14 DOUB N\\nC8 C19 SING N\\nC9 C15 DOUB N\\nC9 C20 SING N\\nC10 N33 DOUB N\\nC11 C12 SING N\\nC11 N32 DOUB N\\nC12 C17 DOUB N\\nC13 C14 SING N\\nC13 C17 SING N\\nC14 N32 SING N\\nC15 N34 SING N\\nC16 C19 DOUB N\\nC16 N35 SING N\\nC17 N34 SING N\\nC18 C20 DOUB N\\nC18 O38 SING N\\nC19 O39 SING N\\nC20 Cl40 SING N\\nC21 C26 SING N\\nC21 N33 SING N\\nC22 C27 SING N\\nC22 N35 SING N\\nC22 O37 DOUB N\\nC23 C30 SING N\\nC24 N36 SING N\\nC25 N36 SING N\\nC26 O38 SING N\\nC27 C28 SING N\\nC28 C29 SING N\\nC29 N36 SING N\\nC30 O39 SING N\\n#\",\n",
       " 'dialect': 'alphafold3',\n",
       " 'version': 3}"
      ]
     },
     "execution_count": null,
     "metadata": {},
     "output_type": "execute_result"
    }
   ],
   "source": [
    "data"
   ]
  },
  {
   "cell_type": "code",
   "execution_count": null,
   "id": "a4b7bffa-b05d-4c3f-925f-c6b7960da752",
   "metadata": {},
   "outputs": [],
   "source": []
  },
  {
   "cell_type": "markdown",
   "id": "c47e87cb-6f48-4876-bb25-e9b9033a01e0",
   "metadata": {},
   "source": [
    "### Docker command"
   ]
  },
  {
   "cell_type": "markdown",
   "id": "87291c24-5864-48b2-ab28-dd95a2c39d76",
   "metadata": {},
   "source": [
    "Move the generated `proteinA.json` to the `af_input/project_name` folder"
   ]
  },
  {
   "cell_type": "code",
   "execution_count": null,
   "id": "fec189ab-7a9c-437f-9820-e8e2fca9fe0a",
   "metadata": {},
   "outputs": [],
   "source": [
    "project_name='sdf'"
   ]
  },
  {
   "cell_type": "code",
   "execution_count": null,
   "id": "9ff1e647-d870-4336-94c4-95862980369d",
   "metadata": {},
   "outputs": [
    {
     "name": "stdout",
     "output_type": "stream",
     "text": [
      "docker run --rm \\\n",
      "    --volume \"$HOME/af_input:/root/af_input\" \\\n",
      "    --volume \"$HOME/af_output/sdf:/root/af_output\" \\\n",
      "    --volume \"$HOME/af_model:/root/models\" \\\n",
      "    --volume \"$HOME/af_db:/root/public_databases\" \\\n",
      "    --gpus \"device=0\" \\\n",
      "    sky1ove/alphafold3 \\\n",
      "    python run_alphafold.py \\\n",
      "    --json_path=/root/af_input/sdf/proteinA.json \\\n",
      "    --output_dir=/root/af_output \\\n",
      "    --model_dir=/root/models\n"
     ]
    }
   ],
   "source": [
    "docker_single_protein_default(json_path=f\"af_input/{project_name}/proteinA.json\",\n",
    "                               output_dir=f\"af_output/{project_name}\")"
   ]
  },
  {
   "cell_type": "markdown",
   "id": "1edb9e5a-a69f-48e1-87c0-164176e6ddea",
   "metadata": {},
   "source": [
    "## Prepare protein-smiles files"
   ]
  },
  {
   "cell_type": "markdown",
   "id": "4b97ce80-1c7f-41e2-84c1-9f0249c3b772",
   "metadata": {},
   "source": [
    "### Read output json"
   ]
  },
  {
   "cell_type": "code",
   "execution_count": null,
   "id": "e1c64405-aa3a-45f7-ad0d-eb3479db558e",
   "metadata": {},
   "outputs": [],
   "source": [
    "protein_json = read_json('data/seq_only_data.json')"
   ]
  },
  {
   "cell_type": "code",
   "execution_count": null,
   "id": "8fa10038-b77c-4fab-9f5b-5e7c207b1f80",
   "metadata": {},
   "outputs": [
    {
     "data": {
      "text/plain": [
       "'{\\'dialect\\': \\'alphafold3\\', \\'version\\': 2, \\'name\\': \\'PDCD1_seq_only\\', \\'sequences\\': [{\\'protein\\': {\\'id\\': \\'A\\', \\'sequence\\': \\'LDSPDRPWNPPTFSPALLVVTEGDNATFTCSFSNTSESFVLNWYRMSPSNQTDKLAAFPEDRSQPGQDCRFRVTQLPNGRDFHMSVVRARRNDSGTYLCGAISLAPKAQIKESLRAELRVTERRAEVPTAHPSPSPRPAGQFQTLV\\', \\'modifications\\': [], \\'unpairedMsa\\': \">query\\\\nLDSPDRPWNPPTFSPALLVVTEGDNATFTCSFSNTSESFVLNWYRMSPSNQTDKLAAFPEDRSQPGQDCRFRVTQLPNGRDFHMSVVRARRNDSGTYLCGAISLAPKAQIKESLRAELRVTERRAEVPTAHPSPSPRPAGQFQTLV\\\\n>UniRef90_UPI0009801507/25-167 [subseq from] Programmed cell death protein 1 n=10 Tax=Homo sapiens TaxID=9606 RepID=UPI0009801507\\\\nLDSPDRPWNPPTFSPALLVVTEGDNATFTCSFSNTSESFVLNWYRMSPSNQTDKLAAFPEDRSQPGQDCRFRVTQLPNGRDFHMSVVRARRNDSGTYLCGAISLAPKAQIKESLRAELRVTERRAEVPTAHPSPSPRPAGQFQ---\\\\n>UniRef90_A0A5F7ZCX7/24-168 [subseq from] Programmed cell death 1 n=1 Tax=Macaca mulatta TaxID=9544 RepID=A0A5F7ZCX7_MACMU\\\\n-ESPDRPWNPPTFSPALLLVTEGDNATFTCSFSNASESFVLNWYRMSPSNQTDKLAAFPEDRSQPGRDCRFRVTQLPNGRDFHMSVVRARRNDSGTYLCGAISLAPKAQIKESLRAELRVTERRAEVPTAHPSPSPRP'"
      ]
     },
     "execution_count": null,
     "metadata": {},
     "output_type": "execute_result"
    }
   ],
   "source": [
    "str(protein_json)[:1000]"
   ]
  },
  {
   "cell_type": "markdown",
   "id": "bdcc749c-d279-4aa4-bb5d-5c7d5f5be6c2",
   "metadata": {},
   "source": [
    "### Single protein-smile pair"
   ]
  },
  {
   "cell_type": "code",
   "execution_count": null,
   "id": "b1f66920-ce25-433c-af83-e7ac086d21be",
   "metadata": {},
   "outputs": [
    {
     "data": {
      "text/plain": [
       "\u001b[0;31mSignature:\u001b[0m\n",
       "\u001b[0mget_protein_smiles_json\u001b[0m\u001b[0;34m(\u001b[0m\u001b[0;34m\u001b[0m\n",
       "\u001b[0;34m\u001b[0m    \u001b[0msmi_id\u001b[0m\u001b[0;34m:\u001b[0m \u001b[0mstr\u001b[0m\u001b[0;34m,\u001b[0m\u001b[0;34m\u001b[0m\n",
       "\u001b[0;34m\u001b[0m    \u001b[0mSMILES\u001b[0m\u001b[0;34m:\u001b[0m \u001b[0mstr\u001b[0m\u001b[0;34m,\u001b[0m\u001b[0;34m\u001b[0m\n",
       "\u001b[0;34m\u001b[0m    \u001b[0mprotein_json\u001b[0m\u001b[0;34m,\u001b[0m\u001b[0;34m\u001b[0m\n",
       "\u001b[0;34m\u001b[0m    \u001b[0msave_path\u001b[0m\u001b[0;34m=\u001b[0m\u001b[0;32mNone\u001b[0m\u001b[0;34m,\u001b[0m\u001b[0;34m\u001b[0m\n",
       "\u001b[0;34m\u001b[0m    \u001b[0mseeds\u001b[0m\u001b[0;34m=\u001b[0m\u001b[0;34m[\u001b[0m\u001b[0;36m1\u001b[0m\u001b[0;34m]\u001b[0m\u001b[0;34m,\u001b[0m\u001b[0;34m\u001b[0m\n",
       "\u001b[0;34m\u001b[0m\u001b[0;34m)\u001b[0m\u001b[0;34m\u001b[0m\u001b[0;34m\u001b[0m\u001b[0m\n",
       "\u001b[0;31mSource:\u001b[0m   \n",
       "\u001b[0;32mdef\u001b[0m \u001b[0mget_protein_smiles_json\u001b[0m\u001b[0;34m(\u001b[0m\u001b[0msmi_id\u001b[0m\u001b[0;34m:\u001b[0m\u001b[0mstr\u001b[0m\u001b[0;34m,\u001b[0m \u001b[0;34m\u001b[0m\n",
       "\u001b[0;34m\u001b[0m                            \u001b[0mSMILES\u001b[0m\u001b[0;34m:\u001b[0m\u001b[0mstr\u001b[0m\u001b[0;34m,\u001b[0m \u001b[0;34m\u001b[0m\n",
       "\u001b[0;34m\u001b[0m                            \u001b[0mprotein_json\u001b[0m\u001b[0;34m,\u001b[0m \u001b[0;31m# json type\u001b[0m\u001b[0;34m\u001b[0m\n",
       "\u001b[0;34m\u001b[0m                            \u001b[0msave_path\u001b[0m\u001b[0;34m=\u001b[0m\u001b[0;32mNone\u001b[0m\u001b[0;34m,\u001b[0m \u001b[0;31m# .json\u001b[0m\u001b[0;34m\u001b[0m\n",
       "\u001b[0;34m\u001b[0m                            \u001b[0mseeds\u001b[0m\u001b[0;34m=\u001b[0m\u001b[0;34m[\u001b[0m\u001b[0;36m1\u001b[0m\u001b[0;34m]\u001b[0m\u001b[0;34m\u001b[0m\n",
       "\u001b[0;34m\u001b[0m                            \u001b[0;34m)\u001b[0m\u001b[0;34m:\u001b[0m\u001b[0;34m\u001b[0m\n",
       "\u001b[0;34m\u001b[0m    \u001b[0;34m\u001b[0m\n",
       "\u001b[0;34m\u001b[0m    \u001b[0;34m\"Get json for protein-ligand docking task\"\u001b[0m\u001b[0;34m\u001b[0m\n",
       "\u001b[0;34m\u001b[0m    \u001b[0;34m\u001b[0m\n",
       "\u001b[0;34m\u001b[0m    \u001b[0mjson_data\u001b[0m \u001b[0;34m=\u001b[0m \u001b[0;34m{\u001b[0m\u001b[0;34m\u001b[0m\n",
       "\u001b[0;34m\u001b[0m        \u001b[0;34m\"name\"\u001b[0m\u001b[0;34m:\u001b[0m \u001b[0msmi_id\u001b[0m\u001b[0;34m,\u001b[0m\u001b[0;34m\u001b[0m\n",
       "\u001b[0;34m\u001b[0m        \u001b[0;34m\"modelSeeds\"\u001b[0m\u001b[0;34m:\u001b[0m \u001b[0mseeds\u001b[0m\u001b[0;34m,\u001b[0m\u001b[0;34m\u001b[0m\n",
       "\u001b[0;34m\u001b[0m        \u001b[0;34m\"sequences\"\u001b[0m\u001b[0;34m:\u001b[0m \u001b[0;34m[\u001b[0m\u001b[0;34m\u001b[0m\n",
       "\u001b[0;34m\u001b[0m            \u001b[0;34m{\u001b[0m\u001b[0;34m\u001b[0m\n",
       "\u001b[0;34m\u001b[0m                \u001b[0;34m\"ligand\"\u001b[0m\u001b[0;34m:\u001b[0m \u001b[0;34m{\u001b[0m\u001b[0;34m\u001b[0m\n",
       "\u001b[0;34m\u001b[0m                    \u001b[0;34m\"id\"\u001b[0m\u001b[0;34m:\u001b[0m \u001b[0;34m\"L\"\u001b[0m\u001b[0;34m,\u001b[0m\u001b[0;34m\u001b[0m\n",
       "\u001b[0;34m\u001b[0m                    \u001b[0;34m\"smiles\"\u001b[0m\u001b[0;34m:\u001b[0m \u001b[0mSMILES\u001b[0m\u001b[0;34m,\u001b[0m\u001b[0;34m\u001b[0m\n",
       "\u001b[0;34m\u001b[0m                \u001b[0;34m}\u001b[0m\u001b[0;34m\u001b[0m\n",
       "\u001b[0;34m\u001b[0m            \u001b[0;34m}\u001b[0m\u001b[0;34m,\u001b[0m \u001b[0;34m\u001b[0m\n",
       "\u001b[0;34m\u001b[0m            \u001b[0;34m{\u001b[0m\u001b[0;34m\u001b[0m\n",
       "\u001b[0;34m\u001b[0m                \u001b[0;34m\"protein\"\u001b[0m\u001b[0;34m:\u001b[0m \u001b[0mprotein_json\u001b[0m\u001b[0;34m[\u001b[0m\u001b[0;34m\"sequences\"\u001b[0m\u001b[0;34m]\u001b[0m\u001b[0;34m[\u001b[0m\u001b[0;36m0\u001b[0m\u001b[0;34m]\u001b[0m\u001b[0;34m[\u001b[0m\u001b[0;34m\"protein\"\u001b[0m\u001b[0;34m]\u001b[0m\u001b[0;34m\u001b[0m\n",
       "\u001b[0;34m\u001b[0m            \u001b[0;34m}\u001b[0m\u001b[0;34m,\u001b[0m\u001b[0;34m\u001b[0m\n",
       "\u001b[0;34m\u001b[0m        \u001b[0;34m]\u001b[0m\u001b[0;34m,\u001b[0m\u001b[0;34m\u001b[0m\n",
       "\u001b[0;34m\u001b[0m        \u001b[0;34m\"bondedAtomPairs\"\u001b[0m\u001b[0;34m:\u001b[0m \u001b[0;34m[\u001b[0m\u001b[0;34m]\u001b[0m\u001b[0;34m,\u001b[0m\u001b[0;34m\u001b[0m\n",
       "\u001b[0;34m\u001b[0m        \u001b[0;34m\"dialect\"\u001b[0m\u001b[0;34m:\u001b[0m \u001b[0;34m\"alphafold3\"\u001b[0m\u001b[0;34m,\u001b[0m\u001b[0;34m\u001b[0m\n",
       "\u001b[0;34m\u001b[0m        \u001b[0;34m\"version\"\u001b[0m\u001b[0;34m:\u001b[0m \u001b[0;36m2\u001b[0m\u001b[0;34m\u001b[0m\n",
       "\u001b[0;34m\u001b[0m    \u001b[0;34m}\u001b[0m\u001b[0;34m\u001b[0m\n",
       "\u001b[0;34m\u001b[0m    \u001b[0;32mif\u001b[0m \u001b[0msave_path\u001b[0m\u001b[0;34m:\u001b[0m\u001b[0;34m\u001b[0m\n",
       "\u001b[0;34m\u001b[0m        \u001b[0mPath\u001b[0m\u001b[0;34m(\u001b[0m\u001b[0msave_path\u001b[0m\u001b[0;34m)\u001b[0m\u001b[0;34m.\u001b[0m\u001b[0mparent\u001b[0m\u001b[0;34m.\u001b[0m\u001b[0mmkdir\u001b[0m\u001b[0;34m(\u001b[0m\u001b[0mparents\u001b[0m\u001b[0;34m=\u001b[0m\u001b[0;32mTrue\u001b[0m\u001b[0;34m,\u001b[0m \u001b[0mexist_ok\u001b[0m\u001b[0;34m=\u001b[0m\u001b[0;32mTrue\u001b[0m\u001b[0;34m)\u001b[0m\u001b[0;34m\u001b[0m\n",
       "\u001b[0;34m\u001b[0m        \u001b[0mdump_json\u001b[0m\u001b[0;34m(\u001b[0m\u001b[0mjson_data\u001b[0m\u001b[0;34m,\u001b[0m\u001b[0msave_path\u001b[0m\u001b[0;34m)\u001b[0m\u001b[0;34m\u001b[0m\n",
       "\u001b[0;34m\u001b[0m    \u001b[0;32mreturn\u001b[0m \u001b[0mjson_data\u001b[0m\u001b[0;34m\u001b[0m\u001b[0;34m\u001b[0m\u001b[0m\n",
       "\u001b[0;31mFile:\u001b[0m      ~/af_kit/af_kit/json.py\n",
       "\u001b[0;31mType:\u001b[0m      function"
      ]
     },
     "metadata": {},
     "output_type": "display_data"
    }
   ],
   "source": [
    "get_protein_smiles_json??"
   ]
  },
  {
   "cell_type": "code",
   "execution_count": null,
   "id": "130f7be3-fa7f-4be0-839d-3a4fd322154f",
   "metadata": {},
   "outputs": [],
   "source": [
    "out = get_protein_smiles_json('smi_name','CCC',protein_json,'data/protein_smi.json')"
   ]
  },
  {
   "cell_type": "markdown",
   "id": "6b5ce160-f3f5-44a2-80d7-2ab4710a0ccf",
   "metadata": {},
   "source": [
    "### Multiple protein-smile pairs in a df"
   ]
  },
  {
   "cell_type": "code",
   "execution_count": null,
   "id": "64b0217c-b0b8-4f26-8203-80a52d94fe8e",
   "metadata": {},
   "outputs": [
    {
     "data": {
      "text/html": [
       "<div>\n",
       "<style scoped>\n",
       "    .dataframe tbody tr th:only-of-type {\n",
       "        vertical-align: middle;\n",
       "    }\n",
       "\n",
       "    .dataframe tbody tr th {\n",
       "        vertical-align: top;\n",
       "    }\n",
       "\n",
       "    .dataframe thead th {\n",
       "        text-align: right;\n",
       "    }\n",
       "</style>\n",
       "<table border=\"1\" class=\"dataframe\">\n",
       "  <thead>\n",
       "    <tr style=\"text-align: right;\">\n",
       "      <th></th>\n",
       "      <th>idx</th>\n",
       "      <th>smi</th>\n",
       "    </tr>\n",
       "  </thead>\n",
       "  <tbody>\n",
       "    <tr>\n",
       "      <th>0</th>\n",
       "      <td>a</td>\n",
       "      <td>CCC</td>\n",
       "    </tr>\n",
       "    <tr>\n",
       "      <th>1</th>\n",
       "      <td>b</td>\n",
       "      <td>OCO</td>\n",
       "    </tr>\n",
       "  </tbody>\n",
       "</table>\n",
       "</div>"
      ],
      "text/plain": [
       "  idx  smi\n",
       "0   a  CCC\n",
       "1   b  OCO"
      ]
     },
     "execution_count": null,
     "metadata": {},
     "output_type": "execute_result"
    }
   ],
   "source": [
    "df = pd.DataFrame({'idx':['a','b'],'smi':['CCC','OCO']})\n",
    "df"
   ]
  },
  {
   "cell_type": "code",
   "execution_count": null,
   "id": "803200e7-ce1a-4ea7-8508-191674925577",
   "metadata": {},
   "outputs": [],
   "source": [
    "for idx, smi in df.values:\n",
    "    _ = get_protein_smiles_json(idx,smi,protein_json,f'af_input/{project_name}/{idx}.json',seeds=[1,2,3])"
   ]
  },
  {
   "cell_type": "markdown",
   "id": "c3587cd4-bb28-4d64-9c2c-c6083706138c",
   "metadata": {},
   "source": [
    "This will generate many json files in the directory"
   ]
  },
  {
   "cell_type": "markdown",
   "id": "19ed21bd-47b3-4f50-8457-d8e540f40c92",
   "metadata": {},
   "source": [
    "## Split file into multiple subfolder for multi-GPUs"
   ]
  },
  {
   "cell_type": "code",
   "execution_count": null,
   "id": "05118c28-53ea-48a9-b905-1a6d2ec44e17",
   "metadata": {},
   "outputs": [
    {
     "name": "stdout",
     "output_type": "stream",
     "text": [
      "Distributed 2 files into 4 folders.\n"
     ]
    }
   ],
   "source": [
    "split_nfolder(f'af_input/{project_name}')"
   ]
  },
  {
   "cell_type": "markdown",
   "id": "569c4a83-9a09-453d-b118-ce6c0ec8dc39",
   "metadata": {},
   "source": [
    "## Docker"
   ]
  },
  {
   "cell_type": "markdown",
   "id": "857a441e-6c14-4e23-a875-fea9a7502483",
   "metadata": {},
   "source": [
    "docker pull sky1ove/alphafold3"
   ]
  },
  {
   "cell_type": "code",
   "execution_count": null,
   "id": "e16aa873-ab5b-4247-80f2-704a32fcba04",
   "metadata": {},
   "outputs": [
    {
     "name": "stdout",
     "output_type": "stream",
     "text": [
      "docker run --rm \\\n",
      "    --volume \"$HOME/af_input:/root/af_input\" \\\n",
      "    --volume \"$HOME/af_output/sdf:/root/af_output\" \\\n",
      "    --volume \"$HOME/af_model:/root/models\" \\\n",
      "    --volume \"$HOME/af_db:/root/public_databases\" \\\n",
      "    --volume \"$HOME/af_cache:/root/cache\" \\\n",
      "    --gpus \"device=0\" \\\n",
      "    sky1ove/alphafold3 \\\n",
      "    python run_alphafold.py \\\n",
      "    --input_dir=/root/af_input/sdf/folder_0 \\\n",
      "    --output_dir=/root/af_output \\\n",
      "    --model_dir=/root/models \\\n",
      "    --jax_compilation_cache_dir=/root/cache \\\n",
      "    --norun_data_pipeline\n",
      "docker run --rm \\\n",
      "    --volume \"$HOME/af_input:/root/af_input\" \\\n",
      "    --volume \"$HOME/af_output/sdf:/root/af_output\" \\\n",
      "    --volume \"$HOME/af_model:/root/models\" \\\n",
      "    --volume \"$HOME/af_db:/root/public_databases\" \\\n",
      "    --volume \"$HOME/af_cache:/root/cache\" \\\n",
      "    --gpus \"device=1\" \\\n",
      "    sky1ove/alphafold3 \\\n",
      "    python run_alphafold.py \\\n",
      "    --input_dir=/root/af_input/sdf/folder_1 \\\n",
      "    --output_dir=/root/af_output \\\n",
      "    --model_dir=/root/models \\\n",
      "    --jax_compilation_cache_dir=/root/cache \\\n",
      "    --norun_data_pipeline\n",
      "docker run --rm \\\n",
      "    --volume \"$HOME/af_input:/root/af_input\" \\\n",
      "    --volume \"$HOME/af_output/sdf:/root/af_output\" \\\n",
      "    --volume \"$HOME/af_model:/root/models\" \\\n",
      "    --volume \"$HOME/af_db:/root/public_databases\" \\\n",
      "    --volume \"$HOME/af_cache:/root/cache\" \\\n",
      "    --gpus \"device=2\" \\\n",
      "    sky1ove/alphafold3 \\\n",
      "    python run_alphafold.py \\\n",
      "    --input_dir=/root/af_input/sdf/folder_2 \\\n",
      "    --output_dir=/root/af_output \\\n",
      "    --model_dir=/root/models \\\n",
      "    --jax_compilation_cache_dir=/root/cache \\\n",
      "    --norun_data_pipeline\n",
      "docker run --rm \\\n",
      "    --volume \"$HOME/af_input:/root/af_input\" \\\n",
      "    --volume \"$HOME/af_output/sdf:/root/af_output\" \\\n",
      "    --volume \"$HOME/af_model:/root/models\" \\\n",
      "    --volume \"$HOME/af_db:/root/public_databases\" \\\n",
      "    --volume \"$HOME/af_cache:/root/cache\" \\\n",
      "    --gpus \"device=3\" \\\n",
      "    sky1ove/alphafold3 \\\n",
      "    python run_alphafold.py \\\n",
      "    --input_dir=/root/af_input/sdf/folder_3 \\\n",
      "    --output_dir=/root/af_output \\\n",
      "    --model_dir=/root/models \\\n",
      "    --jax_compilation_cache_dir=/root/cache \\\n",
      "    --norun_data_pipeline\n"
     ]
    }
   ],
   "source": [
    "for i in range(4):\n",
    "    docker_virtual_screening(input_dir=f\"af_input/{project_name}/folder_{i}\",\n",
    "                               output_dir=f\"af_output/{project_name}\",\n",
    "                               gpus=i)\n",
    "# norun_data_pipeline means skip template search as we already did in the first step"
   ]
  },
  {
   "cell_type": "code",
   "execution_count": null,
   "id": "8ae37bf9-cc1d-4736-90af-097f212451cd",
   "metadata": {},
   "outputs": [],
   "source": []
  }
 ],
 "metadata": {
  "kernelspec": {
   "display_name": "python3",
   "language": "python",
   "name": "python3"
  }
 },
 "nbformat": 4,
 "nbformat_minor": 5
}
