{
 "cells": [
  {
   "cell_type": "markdown",
   "id": "20bce610-1a75-4ccf-86d7-4ccad52f4dfb",
   "metadata": {},
   "source": [
    "# Prepare input json"
   ]
  },
  {
   "cell_type": "markdown",
   "id": "44784442-14c2-4e47-8427-9383e16cfc74",
   "metadata": {},
   "source": [
    "## Setup"
   ]
  },
  {
   "cell_type": "code",
   "execution_count": null,
   "id": "865b7294-8e15-4366-80ec-ac93f0191470",
   "metadata": {},
   "outputs": [],
   "source": [
    "#| default_exp core"
   ]
  },
  {
   "cell_type": "code",
   "execution_count": null,
   "id": "92000c0e-6470-423c-9c55-9972a341282b",
   "metadata": {},
   "outputs": [],
   "source": [
    "#| export\n",
    "import os, json, pandas as pd\n",
    "from pathlib import Path\n",
    "from tqdm import tqdm\n",
    "from itertools import combinations"
   ]
  },
  {
   "cell_type": "markdown",
   "id": "3a663ec0-73e8-4ce7-a393-a3d0d5792ffa",
   "metadata": {},
   "source": [
    "## Instructions"
   ]
  },
  {
   "cell_type": "markdown",
   "id": "a48883f5-8a54-448d-a7bf-7babcd8ea877",
   "metadata": {},
   "source": [
    "- Generate `af_input` folder outside of alphafold3 folder\n",
    "  - Make sure `A3M dir` is within this folder \n",
    "- Have `af_model`, `af_output`, `af_database` folder prepare in the same parent folder\n",
    "- When mount docker path, add the above directory\n",
    "- Add `af_report` folder for saving report files"
   ]
  },
  {
   "cell_type": "markdown",
   "id": "f30c46a5-0409-4509-a216-b6fa2047fe34",
   "metadata": {},
   "source": [
    "```sh\n",
    "cd alphafold3\n",
    "docker build -t alphafold3 -f docker/Dockerfile .\n",
    "```"
   ]
  },
  {
   "cell_type": "markdown",
   "id": "2dcc5402-efe9-4c8b-b149-101bbdad1833",
   "metadata": {},
   "source": [
    "```sh\n",
    "docker run --rm \\\n",
    "    --volume $HOME/af_input:/root/af_input \\\n",
    "    --volume $HOME/af_output:/root/af_output \\\n",
    "    --volume $HOME/af_model:/root/models \\\n",
    "    --volume $HOME/af_database:/root/public_databases \\\n",
    "    --gpus \"device=0\" \\\n",
    "    alphafold3 \\\n",
    "    python run_alphafold.py \\\n",
    "    --input_dir=/root/af_input/{path_to_json_folder}/ \\\n",
    "    --output_dir=/root/af_output/{path_to_output} \\\n",
    "    --model_dir=/root/models\n",
    "```"
   ]
  },
  {
   "cell_type": "markdown",
   "id": "3865952c-632a-4928-8dda-3768c5f2bcad",
   "metadata": {},
   "source": [
    "Use `json_path` instead of `input_dir` if specific json file"
   ]
  },
  {
   "cell_type": "markdown",
   "id": "919fee1f-67a1-456e-9382-c3d92c145c64",
   "metadata": {},
   "source": [
    "## Sequence only input\n",
    "> default pipeline"
   ]
  },
  {
   "cell_type": "code",
   "execution_count": null,
   "id": "8ced7de2-b8be-40ce-8507-4eb121284311",
   "metadata": {},
   "outputs": [],
   "source": [
    "#| export\n",
    "def get_AF_input_seq(name, seq):\n",
    "    \"Generate AF input file of protein sequence only\"\n",
    "    \n",
    "    json_data = {\n",
    "        \"name\": name,\n",
    "        \"modelSeeds\": [1],\n",
    "        \"sequences\": [\n",
    "            {\n",
    "                \"protein\": {\n",
    "                    \"id\": \"A\",\n",
    "                    \"sequence\": seq,\n",
    "                }\n",
    "            },\n",
    "        ],\n",
    "        \"bondedAtomPairs\": [],\n",
    "        \"dialect\": \"alphafold3\",\n",
    "        \"version\": 2\n",
    "    }\n",
    "    return json_data"
   ]
  },
  {
   "cell_type": "code",
   "execution_count": null,
   "id": "536e8227-8192-4368-b1a2-a5a18e3652d5",
   "metadata": {},
   "outputs": [
    {
     "data": {
      "text/plain": [
       "{'name': 'proteinA',\n",
       " 'modelSeeds': [1],\n",
       " 'sequences': [{'protein': {'id': 'A', 'sequence': 'AAA'}}],\n",
       " 'bondedAtomPairs': [],\n",
       " 'dialect': 'alphafold3',\n",
       " 'version': 2}"
      ]
     },
     "execution_count": null,
     "metadata": {},
     "output_type": "execute_result"
    }
   ],
   "source": [
    "data = get_AF_input_seq('proteinA','AAA')\n",
    "data"
   ]
  },
  {
   "cell_type": "code",
   "execution_count": null,
   "id": "e43bfe00-3cf2-4c7e-8a05-1e632ddedba6",
   "metadata": {},
   "outputs": [],
   "source": [
    "#| export\n",
    "def write_json(data, save_path):\n",
    "    with open(save_path,'w') as f: \n",
    "        json.dump(data,f,indent=4)"
   ]
  },
  {
   "cell_type": "code",
   "execution_count": null,
   "id": "fb9403b4-6597-4dae-bc33-129c807e53e5",
   "metadata": {},
   "outputs": [],
   "source": [
    "write_json(data,'data/proteinA_seq_only.json')"
   ]
  },
  {
   "cell_type": "code",
   "execution_count": null,
   "id": "c3e5222e-d89a-4e65-96d6-ab586dcc3b6d",
   "metadata": {},
   "outputs": [],
   "source": [
    "#| export\n",
    "def read_json(file_path):\n",
    "    with open(file_path,'r') as f: \n",
    "        data = json.load(f)\n",
    "    return data"
   ]
  },
  {
   "cell_type": "code",
   "execution_count": null,
   "id": "c977ef82-d979-49e9-879f-26f85ca130b3",
   "metadata": {},
   "outputs": [
    {
     "data": {
      "text/plain": [
       "{'name': 'proteinA',\n",
       " 'modelSeeds': [1],\n",
       " 'sequences': [{'protein': {'id': 'A', 'sequence': 'AAA'}}],\n",
       " 'bondedAtomPairs': [],\n",
       " 'dialect': 'alphafold3',\n",
       " 'version': 2}"
      ]
     },
     "execution_count": null,
     "metadata": {},
     "output_type": "execute_result"
    }
   ],
   "source": [
    "read_json('data/proteinA_seq_only.json')"
   ]
  },
  {
   "cell_type": "markdown",
   "id": "69029291-09f5-4ffb-aada-55e8d2302b2a",
   "metadata": {},
   "source": [
    "## Protein-protein input"
   ]
  },
  {
   "cell_type": "code",
   "execution_count": null,
   "id": "def3928f-c895-479f-9e88-093fdf3892da",
   "metadata": {},
   "outputs": [],
   "source": [
    "#| export\n",
    "def a3m_to_seq(file_path:Path):\n",
    "    \"Get protein sequence from a3m file\"\n",
    "    return file_path.read_text().splitlines()[2] # protein sequence is located on line 2"
   ]
  },
  {
   "cell_type": "code",
   "execution_count": null,
   "id": "1e370e84-7160-4812-ab08-eae50fd9e4c4",
   "metadata": {},
   "outputs": [
    {
     "data": {
      "text/plain": [
       "'SQFRVSPLDRTWNLGETVELKCQVLLSNPTSGCSWLFQPRGAAASPTFLLYLSQNKPKAAEGLDTQRFSGKRLGDTFVLTLSDFRRENEGYYFCSALSNSIMYFSHFVPVFLPAKPTTTPAPRPPTPAPTIASQPLSLRPEACRPAAGGAVHTRGLDFACD'"
      ]
     },
     "execution_count": null,
     "metadata": {},
     "output_type": "execute_result"
    }
   ],
   "source": [
    "a3m_to_seq(Path('data/CD8A.a3m'))"
   ]
  },
  {
   "cell_type": "code",
   "execution_count": null,
   "id": "03da4db8-60b5-409e-889a-f44b2fb27705",
   "metadata": {},
   "outputs": [],
   "source": [
    "#| export\n",
    "def get_protein_json(gene_name, a3m_dir=\".\",idx = 'A',run_template=True):\n",
    "    \"Get alphafold format protein json from a3m file; make sure a3m_dir is under af_input\"\n",
    "    file_path = Path(a3m_dir)/f\"{gene_name}.a3m\"\n",
    "    protein_sequence = a3m_to_seq(file_path)\n",
    "    \n",
    "    json_data = {\n",
    "        'id': idx,\n",
    "        'sequence': protein_sequence, \n",
    "        'modifications': [],\n",
    "        'unpairedMsaPath': \"/root/af_input/\"+str(file_path), # for docker path, ECD under af_input\n",
    "        'pairedMsa': '',\n",
    "        'templates': None if run_template else []\n",
    "    }\n",
    "\n",
    "    return json_data"
   ]
  },
  {
   "cell_type": "code",
   "execution_count": null,
   "id": "5192fc67-bd82-4be9-8144-9be801721e67",
   "metadata": {},
   "outputs": [],
   "source": [
    "protein_json = get_protein_json('CD8A',a3m_dir='data',idx='A')"
   ]
  },
  {
   "cell_type": "code",
   "execution_count": null,
   "id": "74b61dff-0f39-4aa3-9903-74ffb07cb339",
   "metadata": {},
   "outputs": [
    {
     "data": {
      "text/plain": [
       "dict_keys(['id', 'sequence', 'modifications', 'unpairedMsaPath', 'pairedMsa', 'templates'])"
      ]
     },
     "execution_count": null,
     "metadata": {},
     "output_type": "execute_result"
    }
   ],
   "source": [
    "protein_json.keys()"
   ]
  },
  {
   "cell_type": "code",
   "execution_count": null,
   "id": "8e97b4ea-17ec-48dd-bca0-c2f11763205a",
   "metadata": {},
   "outputs": [],
   "source": [
    "#| export\n",
    "def get_AF_input(gene_list,a3m_dir,run_template=True):\n",
    "    'Get AF3 input json data, allows multiple genes/proteins'\n",
    "    sequences = []\n",
    "    alphabets = 'ABCDEFGHIJKLMNOPQRSTUVWXYZ'\n",
    "    for index, gene in enumerate(gene_list):\n",
    "        protein_json=get_protein_json(gene,a3m_dir,idx=alphabets[index],run_template=run_template)\n",
    "        sequences.append({'protein':protein_json})\n",
    "    name = '_'.join(gene_list)\n",
    "    json_data = {\n",
    "            \"name\": name,\n",
    "            \"modelSeeds\": [1],\n",
    "            \"sequences\": sequences,\n",
    "            \"bondedAtomPairs\": [],\n",
    "            \"dialect\": \"alphafold3\",\n",
    "            \"version\": 2\n",
    "        }\n",
    "    return json_data"
   ]
  },
  {
   "cell_type": "code",
   "execution_count": null,
   "id": "ced6789d-abec-4e52-bbc3-062f8dedf409",
   "metadata": {},
   "outputs": [],
   "source": [
    "AF_input = get_AF_input(['CD8A','CD8A'],a3m_dir='data')"
   ]
  },
  {
   "cell_type": "code",
   "execution_count": null,
   "id": "0710f823-7e66-458f-bb14-0081b2faf419",
   "metadata": {},
   "outputs": [
    {
     "data": {
      "text/plain": [
       "(dict_keys(['name', 'modelSeeds', 'sequences', 'bondedAtomPairs', 'dialect', 'version']),\n",
       " 2)"
      ]
     },
     "execution_count": null,
     "metadata": {},
     "output_type": "execute_result"
    }
   ],
   "source": [
    "AF_input.keys(), len(AF_input['sequences'])"
   ]
  },
  {
   "cell_type": "code",
   "execution_count": null,
   "id": "76c918a2-630a-48ac-a682-501cfe4a522f",
   "metadata": {},
   "outputs": [],
   "source": [
    "#| export\n",
    "def save_json(json_data, folder):\n",
    "    \"Save json to file\"\n",
    "    file_path = Path(folder)/f\"{json_data['name']}.json\"\n",
    "    with open(file_path,'w') as f: json.dump(json_data,f,indent=4)"
   ]
  },
  {
   "cell_type": "code",
   "execution_count": null,
   "id": "da838273-7be7-49e8-a070-b04330d4a5a0",
   "metadata": {},
   "outputs": [],
   "source": [
    "save_json(AF_input,'data')"
   ]
  },
  {
   "cell_type": "code",
   "execution_count": null,
   "id": "8cc62d64-4643-49a3-a7ed-be7231abb0b9",
   "metadata": {},
   "outputs": [],
   "source": [
    "#| export\n",
    "def generate_pair_df(gene_list,self_pair=True):\n",
    "    \"Unique pair genes in a gene list\"\n",
    "    pairs = list(combinations(gene_list, 2))\n",
    "    pair_df = pd.DataFrame(pairs,columns=[\"Gene1\", \"Gene2\"])\n",
    "    \n",
    "    if self_pair:\n",
    "        self_pair_df = pd.DataFrame({'Gene1':gene_list, 'Gene2':gene_list})\n",
    "        pair_df = pd.concat([pair_df,self_pair_df])\n",
    "\n",
    "    return pair_df.reset_index(drop=True)"
   ]
  },
  {
   "cell_type": "code",
   "execution_count": null,
   "id": "d0978e82-4707-460f-985a-20d649ec3256",
   "metadata": {},
   "outputs": [
    {
     "data": {
      "text/html": [
       "<div>\n",
       "<style scoped>\n",
       "    .dataframe tbody tr th:only-of-type {\n",
       "        vertical-align: middle;\n",
       "    }\n",
       "\n",
       "    .dataframe tbody tr th {\n",
       "        vertical-align: top;\n",
       "    }\n",
       "\n",
       "    .dataframe thead th {\n",
       "        text-align: right;\n",
       "    }\n",
       "</style>\n",
       "<table border=\"1\" class=\"dataframe\">\n",
       "  <thead>\n",
       "    <tr style=\"text-align: right;\">\n",
       "      <th></th>\n",
       "      <th>Gene1</th>\n",
       "      <th>Gene2</th>\n",
       "    </tr>\n",
       "  </thead>\n",
       "  <tbody>\n",
       "    <tr>\n",
       "      <th>0</th>\n",
       "      <td>A</td>\n",
       "      <td>B</td>\n",
       "    </tr>\n",
       "    <tr>\n",
       "      <th>1</th>\n",
       "      <td>A</td>\n",
       "      <td>C</td>\n",
       "    </tr>\n",
       "    <tr>\n",
       "      <th>2</th>\n",
       "      <td>B</td>\n",
       "      <td>C</td>\n",
       "    </tr>\n",
       "    <tr>\n",
       "      <th>3</th>\n",
       "      <td>A</td>\n",
       "      <td>A</td>\n",
       "    </tr>\n",
       "    <tr>\n",
       "      <th>4</th>\n",
       "      <td>B</td>\n",
       "      <td>B</td>\n",
       "    </tr>\n",
       "    <tr>\n",
       "      <th>5</th>\n",
       "      <td>C</td>\n",
       "      <td>C</td>\n",
       "    </tr>\n",
       "  </tbody>\n",
       "</table>\n",
       "</div>"
      ],
      "text/plain": [
       "  Gene1 Gene2\n",
       "0     A     B\n",
       "1     A     C\n",
       "2     B     C\n",
       "3     A     A\n",
       "4     B     B\n",
       "5     C     C"
      ]
     },
     "execution_count": null,
     "metadata": {},
     "output_type": "execute_result"
    }
   ],
   "source": [
    "generate_pair_df(list('ABC'))"
   ]
  },
  {
   "cell_type": "code",
   "execution_count": null,
   "id": "14f73d57-0c8b-498f-882b-25f50bbf3312",
   "metadata": {},
   "outputs": [
    {
     "data": {
      "text/html": [
       "<div>\n",
       "<style scoped>\n",
       "    .dataframe tbody tr th:only-of-type {\n",
       "        vertical-align: middle;\n",
       "    }\n",
       "\n",
       "    .dataframe tbody tr th {\n",
       "        vertical-align: top;\n",
       "    }\n",
       "\n",
       "    .dataframe thead th {\n",
       "        text-align: right;\n",
       "    }\n",
       "</style>\n",
       "<table border=\"1\" class=\"dataframe\">\n",
       "  <thead>\n",
       "    <tr style=\"text-align: right;\">\n",
       "      <th></th>\n",
       "      <th>Gene1</th>\n",
       "      <th>Gene2</th>\n",
       "    </tr>\n",
       "  </thead>\n",
       "  <tbody>\n",
       "    <tr>\n",
       "      <th>0</th>\n",
       "      <td>CD8A</td>\n",
       "      <td>CD8A</td>\n",
       "    </tr>\n",
       "  </tbody>\n",
       "</table>\n",
       "</div>"
      ],
      "text/plain": [
       "  Gene1 Gene2\n",
       "0  CD8A  CD8A"
      ]
     },
     "execution_count": null,
     "metadata": {},
     "output_type": "execute_result"
    }
   ],
   "source": [
    "df = generate_pair_df(['CD8A'])\n",
    "df"
   ]
  },
  {
   "cell_type": "code",
   "execution_count": null,
   "id": "8beabe53-062e-4f18-b8fd-663b78e5ba17",
   "metadata": {},
   "outputs": [],
   "source": [
    "#| export\n",
    "def save_input(pair_df, a3m_dir, save_dir, nfolder=4):\n",
    "    \"Save Alphafold input file in a directory with separate folder for parallel calculating\"\n",
    "    \n",
    "    save_dir = Path(save_dir) \n",
    "    \n",
    "    for idx, row in tqdm(pair_df.iterrows(),total=len(pair_df)):\n",
    "        for n in range(nfolder):\n",
    "            folder_path = save_dir / f'folder_{n}'\n",
    "            folder_path.mkdir(parents=True, exist_ok=True)\n",
    "\n",
    "        # for faster speed, can removethe check\n",
    "        # check_fname = list(save_dir.glob(f'*/{row[\"Gene1\"]}_{row[\"Gene2\"]}.json'))\n",
    "        # if not check_fname: \n",
    "            \n",
    "        json_data = get_AF_input([row['Gene1'], row['Gene2']], a3m_dir=a3m_dir)  \n",
    "        save_fname = save_dir / f'folder_{idx % nfolder}' / f'{row[\"Gene1\"]}_{row[\"Gene2\"]}.json'\n",
    "        write_json(json_data,save_fname)        "
   ]
  },
  {
   "cell_type": "code",
   "execution_count": null,
   "id": "ae15a8a7-1a83-4952-853e-a08bd41a0068",
   "metadata": {},
   "outputs": [
    {
     "name": "stderr",
     "output_type": "stream",
     "text": [
      "100%|██████████| 1/1 [00:00<00:00, 276.92it/s]\n"
     ]
    }
   ],
   "source": [
    "save_input(df,a3m_dir='data',save_dir='data')"
   ]
  },
  {
   "cell_type": "markdown",
   "id": "0229f715-a701-45bb-9914-97ba4f51f89b",
   "metadata": {},
   "source": [
    "In `data` folder, it will generate folder_0 to folder_n"
   ]
  },
  {
   "cell_type": "markdown",
   "id": "8810d5f6-ddba-4847-b491-65e629e95fc3",
   "metadata": {},
   "source": [
    "### Example for multiple genes:"
   ]
  },
  {
   "cell_type": "markdown",
   "id": "25e31be7-08b2-4b19-9449-99b67188ab0a",
   "metadata": {},
   "source": [
    "```python\n",
    "check_genes = ['CD8A','geneB']\n",
    "print(len(df.id.unique()))\n",
    "\n",
    "for gene in check_genes:\n",
    "    gene_df = pd.DataFrame({'Gene1':gene,'Gene2':df.id.unique()})\n",
    "    save_input(gene_df,a3m_dir='a3m_dir',save_dir=f'af_input/{gene}')\n",
    "    print('done for', gene)\n",
    "    break\n",
    "```"
   ]
  },
  {
   "cell_type": "markdown",
   "id": "f0ae17ba-18fd-4d95-8042-2b531fa15dbf",
   "metadata": {},
   "source": [
    "## Protein-SMILES"
   ]
  },
  {
   "cell_type": "markdown",
   "id": "d0154a5c-4953-4542-9e88-56e6cd2a5309",
   "metadata": {},
   "source": [
    "- First run the normal `sequence only` pipeline for the protein\n",
    "- Get the output data.json file, read it, load the `[\"sequences\"][0][\"protein\"]`"
   ]
  },
  {
   "cell_type": "code",
   "execution_count": null,
   "id": "b9490613-30cd-4cf9-93a7-0e53a6645932",
   "metadata": {},
   "outputs": [],
   "source": [
    "#| export\n",
    "def get_AF_input_smi(smi_idx, smiles, protein_json):\n",
    "    \"Generate AF input file for smiles protein docking task\"\n",
    "    \n",
    "    json_data = {\n",
    "        \"name\": smi_idx,\n",
    "        \"modelSeeds\": [1],\n",
    "        \"sequences\": [\n",
    "            {\n",
    "                \"ligand\": {\n",
    "                    \"id\": \"L\",\n",
    "                    \"smiles\": smiles,\n",
    "                }\n",
    "            }, \n",
    "            {\n",
    "                \"protein\": protein_json[\"sequences\"][0][\"protein\"]\n",
    "            },\n",
    "        ],\n",
    "        \"bondedAtomPairs\": [],\n",
    "        \"dialect\": \"alphafold3\",\n",
    "        \"version\": 2\n",
    "    }\n",
    "    return json_data"
   ]
  },
  {
   "cell_type": "code",
   "execution_count": null,
   "id": "b4c28774-f779-4b51-9ed4-7a5d6f414bf8",
   "metadata": {},
   "outputs": [],
   "source": [
    "fname = 'data/seq_only_data.json'\n",
    "protein_json = read_json(fname)"
   ]
  },
  {
   "cell_type": "code",
   "execution_count": null,
   "id": "1b02bb8e-c65d-4481-9488-4c865575bcea",
   "metadata": {},
   "outputs": [
    {
     "data": {
      "text/plain": [
       "\"{'name': 'smi_name', 'modelSeeds': [1], 'sequences': [{'ligand': {'id': 'L', 'smiles': 'CCC'}}, {'pr\""
      ]
     },
     "execution_count": null,
     "metadata": {},
     "output_type": "execute_result"
    }
   ],
   "source": [
    "str(get_AF_input_smi('smi_name','CCC',protein_json))[:100]"
   ]
  },
  {
   "cell_type": "code",
   "execution_count": null,
   "id": "a4854a90-70fc-49f5-85de-96c1fa5c5a92",
   "metadata": {},
   "outputs": [],
   "source": [
    "#| export\n",
    "def save_input_smi(df, id_col, smi_col, protein_json,save_dir):\n",
    "    \n",
    "    for i, r in tqdm(df.iterrows(),total=len(df)):\n",
    "        \n",
    "        json_data = get_AF_input_smi(r[id_col], r[smi_col],protein_json)\n",
    "        file_name =Path(save_dir)/f\"{r[id_col]}.json\"\n",
    "        write_json(json_data,file_name)"
   ]
  },
  {
   "cell_type": "code",
   "execution_count": null,
   "id": "fdd72269-0165-4d2e-bc67-036653c897ad",
   "metadata": {},
   "outputs": [
    {
     "data": {
      "text/html": [
       "<div>\n",
       "<style scoped>\n",
       "    .dataframe tbody tr th:only-of-type {\n",
       "        vertical-align: middle;\n",
       "    }\n",
       "\n",
       "    .dataframe tbody tr th {\n",
       "        vertical-align: top;\n",
       "    }\n",
       "\n",
       "    .dataframe thead th {\n",
       "        text-align: right;\n",
       "    }\n",
       "</style>\n",
       "<table border=\"1\" class=\"dataframe\">\n",
       "  <thead>\n",
       "    <tr style=\"text-align: right;\">\n",
       "      <th></th>\n",
       "      <th>idx</th>\n",
       "      <th>smi</th>\n",
       "    </tr>\n",
       "  </thead>\n",
       "  <tbody>\n",
       "    <tr>\n",
       "      <th>0</th>\n",
       "      <td>a</td>\n",
       "      <td>CCC</td>\n",
       "    </tr>\n",
       "    <tr>\n",
       "      <th>1</th>\n",
       "      <td>b</td>\n",
       "      <td>OCO</td>\n",
       "    </tr>\n",
       "  </tbody>\n",
       "</table>\n",
       "</div>"
      ],
      "text/plain": [
       "  idx  smi\n",
       "0   a  CCC\n",
       "1   b  OCO"
      ]
     },
     "execution_count": null,
     "metadata": {},
     "output_type": "execute_result"
    }
   ],
   "source": [
    "df = pd.DataFrame({'idx':['a','b'],'smi':['CCC','OCO']})\n",
    "df"
   ]
  },
  {
   "cell_type": "code",
   "execution_count": null,
   "id": "400476e4-4cd1-4003-be6d-6d05ec8ef719",
   "metadata": {},
   "outputs": [
    {
     "name": "stderr",
     "output_type": "stream",
     "text": [
      "100%|██████████| 2/2 [00:00<00:00, 93.69it/s]\n"
     ]
    }
   ],
   "source": [
    "save_input_smi(df,'idx','smi',protein_json,save_dir='data')"
   ]
  },
  {
   "cell_type": "markdown",
   "id": "0327537b-2993-4f8f-b4cc-c96cd617b32c",
   "metadata": {},
   "source": [
    "## End"
   ]
  },
  {
   "cell_type": "code",
   "execution_count": null,
   "id": "61e9787f-713a-4ae6-9fcf-f7344628bf34",
   "metadata": {},
   "outputs": [],
   "source": [
    "#| hide\n",
    "import nbdev; nbdev.nbdev_export()"
   ]
  },
  {
   "cell_type": "code",
   "execution_count": null,
   "id": "e4043415-07ff-4ba4-90ea-1fdc42fea717",
   "metadata": {},
   "outputs": [],
   "source": []
  }
 ],
 "metadata": {
  "kernelspec": {
   "display_name": "python3",
   "language": "python",
   "name": "python3"
  }
 },
 "nbformat": 4,
 "nbformat_minor": 5
}
