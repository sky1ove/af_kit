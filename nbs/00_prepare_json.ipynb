{
 "cells": [
  {
   "cell_type": "markdown",
   "id": "20bce610-1a75-4ccf-86d7-4ccad52f4dfb",
   "metadata": {},
   "source": [
    "# Prepare input json"
   ]
  },
  {
   "cell_type": "markdown",
   "id": "44784442-14c2-4e47-8427-9383e16cfc74",
   "metadata": {},
   "source": [
    "## Setup"
   ]
  },
  {
   "cell_type": "code",
   "execution_count": null,
   "id": "865b7294-8e15-4366-80ec-ac93f0191470",
   "metadata": {},
   "outputs": [],
   "source": [
    "#| default_exp core"
   ]
  },
  {
   "cell_type": "code",
   "execution_count": null,
   "id": "92000c0e-6470-423c-9c55-9972a341282b",
   "metadata": {},
   "outputs": [],
   "source": [
    "#| export\n",
    "import os, json, shutil, pandas as pd\n",
    "from pathlib import Path\n",
    "from tqdm import tqdm\n",
    "from itertools import combinations\n",
    "from pathlib import Path"
   ]
  },
  {
   "cell_type": "markdown",
   "id": "3a663ec0-73e8-4ce7-a393-a3d0d5792ffa",
   "metadata": {},
   "source": [
    "## Instructions"
   ]
  },
  {
   "cell_type": "markdown",
   "id": "3533da89-e788-4c4e-87ee-590ae3036c45",
   "metadata": {},
   "source": [
    "### Docker image"
   ]
  },
  {
   "cell_type": "markdown",
   "id": "bcd7031c-94a5-4b3f-be91-a64dcaac86a6",
   "metadata": {},
   "source": [
    "To build docker image:"
   ]
  },
  {
   "cell_type": "markdown",
   "id": "f30c46a5-0409-4509-a216-b6fa2047fe34",
   "metadata": {},
   "source": [
    "```sh\n",
    "git clone https://github.com/google-deepmind/alphafold3.git\n",
    "cd alphafold3\n",
    "docker build -t alphafold3 -f docker/Dockerfile .\n",
    "```"
   ]
  },
  {
   "cell_type": "markdown",
   "id": "f28d431a-15bc-4e23-ab19-73df9669f361",
   "metadata": {},
   "source": [
    "I also regularly updated alphafold3 docker on the dockerhub, so you can also pull the image from there:"
   ]
  },
  {
   "cell_type": "markdown",
   "id": "d070ef7a-c2e9-488e-ba79-ab1b83dc4dd2",
   "metadata": {},
   "source": [
    "```sh\n",
    "docker pull sky1ove/alphafold3\n",
    "```"
   ]
  },
  {
   "cell_type": "markdown",
   "id": "f9bab3ac-5647-4d3f-8ed6-2dd69fa61a18",
   "metadata": {},
   "source": [
    "### Docker command"
   ]
  },
  {
   "cell_type": "markdown",
   "id": "a48883f5-8a54-448d-a7bf-7babcd8ea877",
   "metadata": {},
   "source": [
    "Before running, make sure you have `af_model`, `af_output`, `af_database` folder prepared in the current directory"
   ]
  },
  {
   "cell_type": "code",
   "execution_count": null,
   "id": "b3c1c715-3647-4958-b372-0c065f97fd7f",
   "metadata": {},
   "outputs": [],
   "source": [
    "#| export\n",
    "def get_docker_command(\n",
    "    input_dir=\"af_input\", # Directory for input data\n",
    "    output_dir=\"af_output\", # Directory for output results\n",
    "    model_dir=\"af_model\", # Directory containing models\n",
    "    db_dir=\"af_database\", # Directory for databases. If None, this option is ommitted\n",
    "    cache_dir=\"cache\", # Directory for JAX compilation cache. If None, this option is omitted\n",
    "    gpus=0, # GPU devices to allocate (e.g., 0,1), if None, ommitted\n",
    "    docker_name=\"sky1ove/alphafold3\", # Docker image name\n",
    "    embedding=True, # If True, includes the --save_embeddings=true flag\n",
    "    skip_search=False, # If True, includes the --norun_data_pipeline flag\n",
    "    search_only=False, # If True, sets skip_search to False and includes the --norun_inference flag\n",
    "    json_path=None  # Path to JSON file. If not None, uses json_file instead of input_dir\n",
    "):\n",
    "\n",
    "    \"Generate a Docker run command for Alphafold with customizable parameters.\"\n",
    "    \n",
    "    # Start building the Docker command\n",
    "    cmd_parts = [\"docker run --rm \\\\\"]\n",
    "\n",
    "    if json_path:\n",
    "        json_path = Path(json_path)\n",
    "        json_dir = json_path.parent\n",
    "        json_basename = json_path.name\n",
    "        cmd_parts.append(f'    --volume \"$HOME/{json_dir}:/root/af_input\" \\\\')\n",
    "    else:\n",
    "        parent_dir = input_dir.split('/')[0]\n",
    "        cmd_parts.append(f'    --volume \"$HOME/{parent_dir}:/root/af_input\" \\\\')\n",
    "\n",
    "    cmd_parts.extend([f'    --volume \"$HOME/{output_dir}:/root/af_output\" \\\\',\n",
    "                      f'    --volume \"$HOME/{model_dir}:/root/models\" \\\\',\n",
    "                     ])\n",
    "    if db_dir:\n",
    "        cmd_parts.append(f'    --volume \"$HOME/{db_dir}:/root/public_databases\" \\\\')\n",
    "\n",
    "    if cache_dir:\n",
    "        cmd_parts.append(f'    --volume \"$HOME/{cache_dir}:/root/cache\" \\\\')\n",
    "\n",
    "    if gpus is not None:\n",
    "        cmd_parts.append(f'    --gpus \"device={gpus}\" \\\\')\n",
    "\n",
    "    cmd_parts.extend([f'    {docker_name} \\\\',\n",
    "                      '    python run_alphafold.py \\\\'])\n",
    "    \n",
    "    if json_path:\n",
    "        cmd_parts.append(f'    --json_path=/root/af_input/{json_basename} \\\\')\n",
    "    else:\n",
    "        len_dir = len(input_dir.split('/')[1:])\n",
    "        if len_dir:\n",
    "            mount_dir= '/'.join(input_dir.split('/')[1:])\n",
    "            cmd_parts.append(f'    --input_dir=/root/af_input/{mount_dir} \\\\')\n",
    "        else:\n",
    "            cmd_parts.append('    --input_dir=/root/af_input \\\\')\n",
    "\n",
    "    cmd_parts.extend(['    --output_dir=/root/af_output \\\\',\n",
    "                      '    --model_dir=/root/models \\\\'])\n",
    "    \n",
    "    if cache_dir:\n",
    "        cmd_parts.append('    --jax_compilation_cache_dir=/root/cache \\\\')\n",
    "\n",
    "    if embedding:\n",
    "        cmd_parts.append('    --save_embeddings=true \\\\')\n",
    "    \n",
    "    if search_only:\n",
    "        skip_search = False\n",
    "        cmd_parts.append('    --norun_inference \\\\')\n",
    "    elif skip_search:\n",
    "        cmd_parts.append('    --norun_data_pipeline \\\\')\n",
    "\n",
    "    if cmd_parts[-1].endswith('\\\\'):\n",
    "        cmd_parts[-1] = cmd_parts[-1].rstrip(' \\\\')\n",
    "\n",
    "    docker_command = \"\\n\".join(cmd_parts)\n",
    "    print(docker_command)"
   ]
  },
  {
   "cell_type": "markdown",
   "id": "ae0baa0d-e9d5-4491-8305-693a0f4216db",
   "metadata": {},
   "source": [
    "Single json file:"
   ]
  },
  {
   "cell_type": "code",
   "execution_count": null,
   "id": "20071fa0-935b-42f5-ba07-b6a56d461daa",
   "metadata": {},
   "outputs": [
    {
     "name": "stdout",
     "output_type": "stream",
     "text": [
      "docker run --rm \\\n",
      "    --volume \"$HOME/path/to/your:/root/af_input\" \\\n",
      "    --volume \"$HOME/af_output/subfolder:/root/af_output\" \\\n",
      "    --volume \"$HOME/af_model:/root/models\" \\\n",
      "    --volume \"$HOME/af_database:/root/public_databases\" \\\n",
      "    --gpus \"device=0\" \\\n",
      "    sky1ove/alphafold3 \\\n",
      "    python run_alphafold.py \\\n",
      "    --json_path=/root/af_input/data.json \\\n",
      "    --output_dir=/root/af_output \\\n",
      "    --model_dir=/root/models \\\n",
      "    --save_embeddings=true\n"
     ]
    }
   ],
   "source": [
    "# for single json file, we don't need to cache the model\n",
    "get_docker_command(json_path=\"path/to/your/data.json\",\n",
    "                   output_dir=\"af_output/subfolder\",\n",
    "                   cache_dir=False)"
   ]
  },
  {
   "cell_type": "markdown",
   "id": "10c377b4-89ea-4f1a-88cb-2cf65f7e0450",
   "metadata": {},
   "source": [
    "Input directory with json files:"
   ]
  },
  {
   "cell_type": "code",
   "execution_count": null,
   "id": "62fe62fc-69ee-45d0-8b36-504ef38b8ac2",
   "metadata": {},
   "outputs": [
    {
     "name": "stdout",
     "output_type": "stream",
     "text": [
      "docker run --rm \\\n",
      "    --volume \"$HOME/path:/root/af_input\" \\\n",
      "    --volume \"$HOME/af_output/subfolder:/root/af_output\" \\\n",
      "    --volume \"$HOME/af_model:/root/models\" \\\n",
      "    --volume \"$HOME/af_database:/root/public_databases\" \\\n",
      "    --volume \"$HOME/cache:/root/cache\" \\\n",
      "    --gpus \"device=0\" \\\n",
      "    sky1ove/alphafold3 \\\n",
      "    python run_alphafold.py \\\n",
      "    --input_dir=/root/af_input/to/your/folder \\\n",
      "    --output_dir=/root/af_output \\\n",
      "    --model_dir=/root/models \\\n",
      "    --jax_compilation_cache_dir=/root/cache \\\n",
      "    --save_embeddings=true\n"
     ]
    }
   ],
   "source": [
    "# For a number of json files in the input folder\n",
    "get_docker_command(input_dir=\"path/to/your/folder\",\n",
    "                   output_dir=\"af_output/subfolder\")"
   ]
  },
  {
   "cell_type": "markdown",
   "id": "9e131500-0121-4747-8a33-32474b72303b",
   "metadata": {},
   "source": [
    "Both above will search database first then run the GPU inference"
   ]
  },
  {
   "cell_type": "markdown",
   "id": "d275e2d7-0704-4077-b461-172ce06543e1",
   "metadata": {},
   "source": [
    "## MSA"
   ]
  },
  {
   "cell_type": "code",
   "execution_count": null,
   "id": "9fb90cd0-3260-4dd1-a169-340a75633ab0",
   "metadata": {},
   "outputs": [],
   "source": [
    "#| export\n",
    "def copy_a3m(a3m_dir: str, # Path to the source directory containing .a3m files.\n",
    "             dest_dir: str, # Path to the destination directory where files will be copied\n",
    "             ):\n",
    "    \"Copies all .a3m files from the source directory to the destination directory.\"\n",
    "    \n",
    "    a3m_dir,dest_dir = Path(a3m_dir),Path(dest_dir)\n",
    "    dest_dir.mkdir(parents=True, exist_ok=True)\n",
    "\n",
    "    files = list(a3m_dir.glob('*.a3m'))\n",
    "\n",
    "    for file in tqdm(files, desc=\"Copying files\", unit=\"file\"):\n",
    "        shutil.copy(file, dest_dir / file.name)\n",
    "\n",
    "    print(f\"Copied {len(files)} a3m files from {a3m_dir} to {dest_dir}\")"
   ]
  },
  {
   "cell_type": "code",
   "execution_count": null,
   "id": "f26306ec-8acc-40dc-ac59-eb419d0afec1",
   "metadata": {},
   "outputs": [
    {
     "name": "stderr",
     "output_type": "stream",
     "text": [
      "Copying files: 100%|██████████| 1/1 [00:00<00:00, 937.48file/s]"
     ]
    },
    {
     "name": "stdout",
     "output_type": "stream",
     "text": [
      "Copied 1 a3m files from data to af_input\n"
     ]
    },
    {
     "name": "stderr",
     "output_type": "stream",
     "text": [
      "\n"
     ]
    }
   ],
   "source": [
    "copy_a3m(a3m_dir='data',dest_dir='af_input')"
   ]
  },
  {
   "cell_type": "markdown",
   "id": "14306c28-4e4f-4731-8ad2-3069a9923fba",
   "metadata": {},
   "source": [
    "## Utils"
   ]
  },
  {
   "cell_type": "code",
   "execution_count": null,
   "id": "d74b636a-4514-40af-a00f-5c9f64673c21",
   "metadata": {},
   "outputs": [],
   "source": [
    "#| export\n",
    "def split_files_into_folders(input_folder: str, nfolder: int = 4):\n",
    "    \"\"\"\n",
    "    Splits `.a3m` files in a folder into subfolders (folder_0, folder_1, ..., folder_N).\n",
    "    \n",
    "    Args:\n",
    "        input_folder (str): Path to the folder containing `.a3m` files.\n",
    "        nfolder (int): Number of subfolders to create. Default is 4.\n",
    "    \"\"\"\n",
    "    input_path = Path(input_folder)\n",
    "    if not input_path.is_dir():\n",
    "        raise ValueError(f\"Input folder {input_folder} does not exist or is not a directory.\")\n",
    "\n",
    "    # List all `.a3m` files\n",
    "    a3m_files = sorted(input_path.glob(\"*.a3m\"))\n",
    "    if not a3m_files:\n",
    "        print(\"No `.a3m` files found in the input folder.\")\n",
    "        return\n",
    "\n",
    "    # Create the subfolders\n",
    "    subfolders = [input_path / f\"folder_{i}\" for i in range(nfolder)]\n",
    "    for folder in subfolders:\n",
    "        folder.mkdir(exist_ok=True)\n",
    "\n",
    "    # Distribute the files into the subfolders\n",
    "    for idx, file in enumerate(a3m_files):\n",
    "        target_folder = subfolders[idx % nfolder]\n",
    "        shutil.move(str(file), target_folder / file.name)\n",
    "\n",
    "    print(f\"Distributed {len(a3m_files)} files into {nfolder} folders.\")\n"
   ]
  },
  {
   "cell_type": "markdown",
   "id": "919fee1f-67a1-456e-9382-c3d92c145c64",
   "metadata": {},
   "source": [
    "## Sequence only input\n",
    "> default pipeline"
   ]
  },
  {
   "cell_type": "code",
   "execution_count": null,
   "id": "8ced7de2-b8be-40ce-8507-4eb121284311",
   "metadata": {},
   "outputs": [],
   "source": [
    "#| export\n",
    "def get_AF_input_seq(name, seq):\n",
    "    \"Generate AF input file of protein sequence only\"\n",
    "    \n",
    "    json_data = {\n",
    "        \"name\": name,\n",
    "        \"modelSeeds\": [1],\n",
    "        \"sequences\": [\n",
    "            {\n",
    "                \"protein\": {\n",
    "                    \"id\": \"A\",\n",
    "                    \"sequence\": seq,\n",
    "                }\n",
    "            },\n",
    "        ],\n",
    "        \"bondedAtomPairs\": [],\n",
    "        \"dialect\": \"alphafold3\",\n",
    "        \"version\": 2\n",
    "    }\n",
    "    return json_data"
   ]
  },
  {
   "cell_type": "code",
   "execution_count": null,
   "id": "536e8227-8192-4368-b1a2-a5a18e3652d5",
   "metadata": {},
   "outputs": [
    {
     "data": {
      "text/plain": [
       "{'name': 'proteinA',\n",
       " 'modelSeeds': [1],\n",
       " 'sequences': [{'protein': {'id': 'A', 'sequence': 'AAA'}}],\n",
       " 'bondedAtomPairs': [],\n",
       " 'dialect': 'alphafold3',\n",
       " 'version': 2}"
      ]
     },
     "execution_count": null,
     "metadata": {},
     "output_type": "execute_result"
    }
   ],
   "source": [
    "data = get_AF_input_seq('proteinA','AAA')\n",
    "data"
   ]
  },
  {
   "cell_type": "code",
   "execution_count": null,
   "id": "e43bfe00-3cf2-4c7e-8a05-1e632ddedba6",
   "metadata": {},
   "outputs": [],
   "source": [
    "#| export\n",
    "def dump_json(data, save_path):\n",
    "    with open(save_path,'w') as f: \n",
    "        json.dump(data,f,indent=4)"
   ]
  },
  {
   "cell_type": "code",
   "execution_count": null,
   "id": "fb9403b4-6597-4dae-bc33-129c807e53e5",
   "metadata": {},
   "outputs": [],
   "source": [
    "dump_json(data,'data/proteinA_seq_only.json')"
   ]
  },
  {
   "cell_type": "code",
   "execution_count": null,
   "id": "c3e5222e-d89a-4e65-96d6-ab586dcc3b6d",
   "metadata": {},
   "outputs": [],
   "source": [
    "#| export\n",
    "def read_json(file_path):\n",
    "    with open(file_path,'r') as f: \n",
    "        data = json.load(f)\n",
    "    return data"
   ]
  },
  {
   "cell_type": "code",
   "execution_count": null,
   "id": "c977ef82-d979-49e9-879f-26f85ca130b3",
   "metadata": {},
   "outputs": [
    {
     "data": {
      "text/plain": [
       "{'name': 'proteinA',\n",
       " 'modelSeeds': [1],\n",
       " 'sequences': [{'protein': {'id': 'A', 'sequence': 'AAA'}}],\n",
       " 'bondedAtomPairs': [],\n",
       " 'dialect': 'alphafold3',\n",
       " 'version': 2}"
      ]
     },
     "execution_count": null,
     "metadata": {},
     "output_type": "execute_result"
    }
   ],
   "source": [
    "read_json('data/proteinA_seq_only.json')"
   ]
  },
  {
   "cell_type": "markdown",
   "id": "69029291-09f5-4ffb-aada-55e8d2302b2a",
   "metadata": {},
   "source": [
    "## Protein-protein input"
   ]
  },
  {
   "cell_type": "markdown",
   "id": "6963d7d8-71de-49a4-8aee-42b8a82bd0d7",
   "metadata": {},
   "source": [
    ":::{.callout-important}\n",
    "Make sure a3m files are under af_input, otherwise it won't detect the files\n",
    ":::"
   ]
  },
  {
   "cell_type": "code",
   "execution_count": null,
   "id": "def3928f-c895-479f-9e88-093fdf3892da",
   "metadata": {},
   "outputs": [],
   "source": [
    "#| export\n",
    "def a3m_to_seq(file_path:Path):\n",
    "    \"Get protein sequence from a3m file\"\n",
    "    return file_path.read_text().splitlines()[2] # protein sequence is located on line 2"
   ]
  },
  {
   "cell_type": "code",
   "execution_count": null,
   "id": "1e370e84-7160-4812-ab08-eae50fd9e4c4",
   "metadata": {},
   "outputs": [
    {
     "data": {
      "text/plain": [
       "'SQFRVSPLDRTWNLGETVELKCQVLLSNPTSGCSWLFQPRGAAASPTFLLYLSQNKPKAAEGLDTQRFSGKRLGDTFVLTLSDFRRENEGYYFCSALSNSIMYFSHFVPVFLPAKPTTTPAPRPPTPAPTIASQPLSLRPEACRPAAGGAVHTRGLDFACD'"
      ]
     },
     "execution_count": null,
     "metadata": {},
     "output_type": "execute_result"
    }
   ],
   "source": [
    "a3m_to_seq(Path('af_input/subfolder/a3m/CD8A.a3m'))"
   ]
  },
  {
   "cell_type": "code",
   "execution_count": null,
   "id": "03da4db8-60b5-409e-889a-f44b2fb27705",
   "metadata": {},
   "outputs": [],
   "source": [
    "#| export\n",
    "def get_protein_json(gene_name, a3m_dir=\".\",idx = 'A',run_template=True):\n",
    "    \"Get alphafold format protein json from a3m file; make sure a3m_dir is under af_input\"\n",
    "    file_path = Path(a3m_dir)/f\"{gene_name}.a3m\"\n",
    "    protein_sequence = a3m_to_seq(file_path)\n",
    "    \n",
    "    json_data = {\n",
    "        'id': idx,\n",
    "        'sequence': protein_sequence, \n",
    "        'modifications': [],\n",
    "        'unpairedMsaPath': str(\"/root\"/file_path), # for docker path, ECD under af_input\n",
    "        'pairedMsa': '',\n",
    "        'templates': None if run_template else []\n",
    "    }\n",
    "\n",
    "    return json_data"
   ]
  },
  {
   "cell_type": "code",
   "execution_count": null,
   "id": "5192fc67-bd82-4be9-8144-9be801721e67",
   "metadata": {},
   "outputs": [],
   "source": [
    "protein_json = get_protein_json('CD8A',a3m_dir='af_input/subfolder/a3m')"
   ]
  },
  {
   "cell_type": "code",
   "execution_count": null,
   "id": "74116f5c-712e-4734-94bb-be22caba3f7a",
   "metadata": {},
   "outputs": [
    {
     "data": {
      "text/plain": [
       "{'id': 'A',\n",
       " 'sequence': 'SQFRVSPLDRTWNLGETVELKCQVLLSNPTSGCSWLFQPRGAAASPTFLLYLSQNKPKAAEGLDTQRFSGKRLGDTFVLTLSDFRRENEGYYFCSALSNSIMYFSHFVPVFLPAKPTTTPAPRPPTPAPTIASQPLSLRPEACRPAAGGAVHTRGLDFACD',\n",
       " 'modifications': [],\n",
       " 'unpairedMsaPath': '/root/af_input/subfolder/a3m/CD8A.a3m',\n",
       " 'pairedMsa': '',\n",
       " 'templates': None}"
      ]
     },
     "execution_count": null,
     "metadata": {},
     "output_type": "execute_result"
    }
   ],
   "source": [
    "protein_json"
   ]
  },
  {
   "cell_type": "code",
   "execution_count": null,
   "id": "76c918a2-630a-48ac-a682-501cfe4a522f",
   "metadata": {},
   "outputs": [],
   "source": [
    "#| export\n",
    "def save_json(json_data, folder):\n",
    "    \"Save json under a folder\"\n",
    "    file_path = Path(folder)/f\"{json_data['name']}.json\"\n",
    "    with open(file_path,'w') as f: json.dump(json_data,f,indent=4)"
   ]
  },
  {
   "cell_type": "code",
   "execution_count": null,
   "id": "da838273-7be7-49e8-a070-b04330d4a5a0",
   "metadata": {},
   "outputs": [],
   "source": [
    "save_json(data,'data')"
   ]
  },
  {
   "cell_type": "code",
   "execution_count": null,
   "id": "8e97b4ea-17ec-48dd-bca0-c2f11763205a",
   "metadata": {},
   "outputs": [],
   "source": [
    "#| export\n",
    "def get_AF_input(gene_list,a3m_dir,run_template=True,save_folder=None):\n",
    "    'Get AF3 input json data, allows multiple genes/proteins'\n",
    "    sequences = []\n",
    "    alphabets = 'ABCDEFGHIJKLMNOPQRSTUVWXYZ'\n",
    "    for index, gene in enumerate(gene_list):\n",
    "        protein_json=get_protein_json(gene,a3m_dir,idx=alphabets[index],run_template=run_template)\n",
    "        sequences.append({'protein':protein_json})\n",
    "    name = '_'.join(gene_list)\n",
    "    json_data = {\n",
    "            \"name\": name,\n",
    "            \"modelSeeds\": [1],\n",
    "            \"sequences\": sequences,\n",
    "            \"bondedAtomPairs\": [],\n",
    "            \"dialect\": \"alphafold3\",\n",
    "            \"version\": 2\n",
    "        }\n",
    "    if save_folder:\n",
    "        save_json(json_data,save_folder)\n",
    "    return json_data"
   ]
  },
  {
   "cell_type": "code",
   "execution_count": null,
   "id": "ced6789d-abec-4e52-bbc3-062f8dedf409",
   "metadata": {},
   "outputs": [],
   "source": [
    "AF_input = get_AF_input(['CD8A','CD8A'],\n",
    "                        a3m_dir='af_input/subfolder/a3m',\n",
    "                        save_folder='af_input/subfolder')"
   ]
  },
  {
   "cell_type": "markdown",
   "id": "957e5e4b-9113-4930-8bb2-7428d80c4590",
   "metadata": {},
   "source": [
    "You can generate a list of json files under a folder."
   ]
  },
  {
   "cell_type": "code",
   "execution_count": null,
   "id": "0710f823-7e66-458f-bb14-0081b2faf419",
   "metadata": {},
   "outputs": [
    {
     "data": {
      "text/plain": [
       "(dict_keys(['name', 'modelSeeds', 'sequences', 'bondedAtomPairs', 'dialect', 'version']),\n",
       " 2)"
      ]
     },
     "execution_count": null,
     "metadata": {},
     "output_type": "execute_result"
    }
   ],
   "source": [
    "AF_input.keys(), len(AF_input['sequences'])"
   ]
  },
  {
   "cell_type": "code",
   "execution_count": null,
   "id": "8cc62d64-4643-49a3-a7ed-be7231abb0b9",
   "metadata": {},
   "outputs": [],
   "source": [
    "#| export\n",
    "def generate_pair_df(gene_list,self_pair=True):\n",
    "    \"Unique pair genes in a gene list\"\n",
    "    pairs = list(combinations(gene_list, 2))\n",
    "    pair_df = pd.DataFrame(pairs,columns=[\"Gene1\", \"Gene2\"])\n",
    "    \n",
    "    if self_pair:\n",
    "        self_pair_df = pd.DataFrame({'Gene1':gene_list, 'Gene2':gene_list})\n",
    "        pair_df = pd.concat([pair_df,self_pair_df])\n",
    "\n",
    "    return pair_df.reset_index(drop=True)"
   ]
  },
  {
   "cell_type": "code",
   "execution_count": null,
   "id": "d0978e82-4707-460f-985a-20d649ec3256",
   "metadata": {},
   "outputs": [
    {
     "data": {
      "text/html": [
       "<div>\n",
       "<style scoped>\n",
       "    .dataframe tbody tr th:only-of-type {\n",
       "        vertical-align: middle;\n",
       "    }\n",
       "\n",
       "    .dataframe tbody tr th {\n",
       "        vertical-align: top;\n",
       "    }\n",
       "\n",
       "    .dataframe thead th {\n",
       "        text-align: right;\n",
       "    }\n",
       "</style>\n",
       "<table border=\"1\" class=\"dataframe\">\n",
       "  <thead>\n",
       "    <tr style=\"text-align: right;\">\n",
       "      <th></th>\n",
       "      <th>Gene1</th>\n",
       "      <th>Gene2</th>\n",
       "    </tr>\n",
       "  </thead>\n",
       "  <tbody>\n",
       "    <tr>\n",
       "      <th>0</th>\n",
       "      <td>A</td>\n",
       "      <td>B</td>\n",
       "    </tr>\n",
       "    <tr>\n",
       "      <th>1</th>\n",
       "      <td>A</td>\n",
       "      <td>C</td>\n",
       "    </tr>\n",
       "    <tr>\n",
       "      <th>2</th>\n",
       "      <td>B</td>\n",
       "      <td>C</td>\n",
       "    </tr>\n",
       "    <tr>\n",
       "      <th>3</th>\n",
       "      <td>A</td>\n",
       "      <td>A</td>\n",
       "    </tr>\n",
       "    <tr>\n",
       "      <th>4</th>\n",
       "      <td>B</td>\n",
       "      <td>B</td>\n",
       "    </tr>\n",
       "    <tr>\n",
       "      <th>5</th>\n",
       "      <td>C</td>\n",
       "      <td>C</td>\n",
       "    </tr>\n",
       "  </tbody>\n",
       "</table>\n",
       "</div>"
      ],
      "text/plain": [
       "  Gene1 Gene2\n",
       "0     A     B\n",
       "1     A     C\n",
       "2     B     C\n",
       "3     A     A\n",
       "4     B     B\n",
       "5     C     C"
      ]
     },
     "execution_count": null,
     "metadata": {},
     "output_type": "execute_result"
    }
   ],
   "source": [
    "generate_pair_df(list('ABC'))"
   ]
  },
  {
   "cell_type": "code",
   "execution_count": null,
   "id": "14f73d57-0c8b-498f-882b-25f50bbf3312",
   "metadata": {},
   "outputs": [
    {
     "data": {
      "text/html": [
       "<div>\n",
       "<style scoped>\n",
       "    .dataframe tbody tr th:only-of-type {\n",
       "        vertical-align: middle;\n",
       "    }\n",
       "\n",
       "    .dataframe tbody tr th {\n",
       "        vertical-align: top;\n",
       "    }\n",
       "\n",
       "    .dataframe thead th {\n",
       "        text-align: right;\n",
       "    }\n",
       "</style>\n",
       "<table border=\"1\" class=\"dataframe\">\n",
       "  <thead>\n",
       "    <tr style=\"text-align: right;\">\n",
       "      <th></th>\n",
       "      <th>Gene1</th>\n",
       "      <th>Gene2</th>\n",
       "    </tr>\n",
       "  </thead>\n",
       "  <tbody>\n",
       "    <tr>\n",
       "      <th>0</th>\n",
       "      <td>CD8A</td>\n",
       "      <td>CD8A</td>\n",
       "    </tr>\n",
       "  </tbody>\n",
       "</table>\n",
       "</div>"
      ],
      "text/plain": [
       "  Gene1 Gene2\n",
       "0  CD8A  CD8A"
      ]
     },
     "execution_count": null,
     "metadata": {},
     "output_type": "execute_result"
    }
   ],
   "source": [
    "df = generate_pair_df(['CD8A'])\n",
    "df"
   ]
  },
  {
   "cell_type": "code",
   "execution_count": null,
   "id": "3e888349-61d4-49ab-aca0-3cca10fdf0a8",
   "metadata": {},
   "outputs": [],
   "source": [
    "#| export\n",
    "def split_nfolder(folder_dir, \n",
    "                  n=4):\n",
    "    \"Splits json files in a folder into subfolders (folder_0, folder_1, ..., folder_N).\"\n",
    "    \n",
    "    folder_dir = Path(folder_dir)\n",
    "\n",
    "    files = sorted(folder_dir.glob(\"*.json\"))\n",
    "    # print(len(files))\n",
    "    subfolders = [folder_dir / f\"folder_{i}\" for i in range(n)]\n",
    "    for folder in subfolders:\n",
    "        folder.mkdir(exist_ok=True)\n",
    "\n",
    "    for idx, file in enumerate(files):\n",
    "        target_folder = subfolders[idx % n]\n",
    "        shutil.move(str(file), target_folder / file.name)\n",
    "\n",
    "    print(f\"Distributed {len(files)} files into {n} folders.\")"
   ]
  },
  {
   "cell_type": "markdown",
   "id": "f261cba4-4529-41bd-b16b-712f5d96f1cb",
   "metadata": {},
   "source": [
    "Generate json files first:"
   ]
  },
  {
   "cell_type": "code",
   "execution_count": null,
   "id": "880c9d88-bfc9-4328-90b9-5fa7e7cfe9f4",
   "metadata": {},
   "outputs": [
    {
     "name": "stderr",
     "output_type": "stream",
     "text": [
      "100%|██████████| 1/1 [00:00<00:00, 190.95it/s]\n"
     ]
    }
   ],
   "source": [
    "for idx, row in tqdm(df.iterrows(),total=len(df)):\n",
    "    json_data = get_AF_input([row['Gene1'], row['Gene2']], \n",
    "                             a3m_dir='af_input/subfolder/a3m', \n",
    "                             save_folder='af_input/subfolder') "
   ]
  },
  {
   "cell_type": "markdown",
   "id": "41674441-cd4d-4c98-9247-7994d61c754a",
   "metadata": {},
   "source": [
    "Split them to subfolder:"
   ]
  },
  {
   "cell_type": "code",
   "execution_count": null,
   "id": "10d6ec2f-9fea-4397-a459-89d447422978",
   "metadata": {},
   "outputs": [
    {
     "name": "stdout",
     "output_type": "stream",
     "text": [
      "Distributed 1 files into 4 folders.\n"
     ]
    }
   ],
   "source": [
    "split_nfolder('af_input/subfolder')"
   ]
  },
  {
   "cell_type": "markdown",
   "id": "f0ae17ba-18fd-4d95-8042-2b531fa15dbf",
   "metadata": {},
   "source": [
    "## Protein-SMILES"
   ]
  },
  {
   "cell_type": "markdown",
   "id": "d0154a5c-4953-4542-9e88-56e6cd2a5309",
   "metadata": {},
   "source": [
    "- First run the normal `sequence only` pipeline for the protein\n",
    "- Get the output data.json file, read it, load the `[\"sequences\"][0][\"protein\"]`"
   ]
  },
  {
   "cell_type": "code",
   "execution_count": null,
   "id": "b9490613-30cd-4cf9-93a7-0e53a6645932",
   "metadata": {},
   "outputs": [],
   "source": [
    "#| export\n",
    "def get_AF_input_smi(smi_idx, smiles, protein_json):\n",
    "    \"Generate AF input file for smiles protein docking task\"\n",
    "    \n",
    "    json_data = {\n",
    "        \"name\": smi_idx,\n",
    "        \"modelSeeds\": [1],\n",
    "        \"sequences\": [\n",
    "            {\n",
    "                \"ligand\": {\n",
    "                    \"id\": \"L\",\n",
    "                    \"smiles\": smiles,\n",
    "                }\n",
    "            }, \n",
    "            {\n",
    "                \"protein\": protein_json[\"sequences\"][0][\"protein\"]\n",
    "            },\n",
    "        ],\n",
    "        \"bondedAtomPairs\": [],\n",
    "        \"dialect\": \"alphafold3\",\n",
    "        \"version\": 2\n",
    "    }\n",
    "    return json_data"
   ]
  },
  {
   "cell_type": "code",
   "execution_count": null,
   "id": "b4c28774-f779-4b51-9ed4-7a5d6f414bf8",
   "metadata": {},
   "outputs": [],
   "source": [
    "fname = 'data/seq_only_data.json'\n",
    "protein_json = read_json(fname)"
   ]
  },
  {
   "cell_type": "code",
   "execution_count": null,
   "id": "1b02bb8e-c65d-4481-9488-4c865575bcea",
   "metadata": {},
   "outputs": [
    {
     "data": {
      "text/plain": [
       "\"{'name': 'smi_name', 'modelSeeds': [1], 'sequences': [{'ligand': {'id': 'L', 'smiles': 'CCC'}}, {'pr\""
      ]
     },
     "execution_count": null,
     "metadata": {},
     "output_type": "execute_result"
    }
   ],
   "source": [
    "str(get_AF_input_smi('smi_name','CCC',protein_json))[:100]"
   ]
  },
  {
   "cell_type": "code",
   "execution_count": null,
   "id": "a4854a90-70fc-49f5-85de-96c1fa5c5a92",
   "metadata": {},
   "outputs": [],
   "source": [
    "#| export\n",
    "def save_input_smi(df, id_col, smi_col, protein_json,save_dir):\n",
    "    \n",
    "    for i, r in tqdm(df.iterrows(),total=len(df)):\n",
    "        \n",
    "        json_data = get_AF_input_smi(r[id_col], r[smi_col],protein_json)\n",
    "        file_name =Path(save_dir)/f\"{r[id_col]}.json\"\n",
    "        dump_json(json_data,file_name)"
   ]
  },
  {
   "cell_type": "code",
   "execution_count": null,
   "id": "fdd72269-0165-4d2e-bc67-036653c897ad",
   "metadata": {},
   "outputs": [
    {
     "data": {
      "text/html": [
       "<div>\n",
       "<style scoped>\n",
       "    .dataframe tbody tr th:only-of-type {\n",
       "        vertical-align: middle;\n",
       "    }\n",
       "\n",
       "    .dataframe tbody tr th {\n",
       "        vertical-align: top;\n",
       "    }\n",
       "\n",
       "    .dataframe thead th {\n",
       "        text-align: right;\n",
       "    }\n",
       "</style>\n",
       "<table border=\"1\" class=\"dataframe\">\n",
       "  <thead>\n",
       "    <tr style=\"text-align: right;\">\n",
       "      <th></th>\n",
       "      <th>idx</th>\n",
       "      <th>smi</th>\n",
       "    </tr>\n",
       "  </thead>\n",
       "  <tbody>\n",
       "    <tr>\n",
       "      <th>0</th>\n",
       "      <td>a</td>\n",
       "      <td>CCC</td>\n",
       "    </tr>\n",
       "    <tr>\n",
       "      <th>1</th>\n",
       "      <td>b</td>\n",
       "      <td>OCO</td>\n",
       "    </tr>\n",
       "  </tbody>\n",
       "</table>\n",
       "</div>"
      ],
      "text/plain": [
       "  idx  smi\n",
       "0   a  CCC\n",
       "1   b  OCO"
      ]
     },
     "execution_count": null,
     "metadata": {},
     "output_type": "execute_result"
    }
   ],
   "source": [
    "df = pd.DataFrame({'idx':['a','b'],'smi':['CCC','OCO']})\n",
    "df"
   ]
  },
  {
   "cell_type": "code",
   "execution_count": null,
   "id": "400476e4-4cd1-4003-be6d-6d05ec8ef719",
   "metadata": {},
   "outputs": [
    {
     "name": "stderr",
     "output_type": "stream",
     "text": [
      "100%|██████████| 2/2 [00:00<00:00, 122.72it/s]\n"
     ]
    }
   ],
   "source": [
    "save_input_smi(df,'idx','smi',protein_json,save_dir='data')"
   ]
  },
  {
   "cell_type": "markdown",
   "id": "0327537b-2993-4f8f-b4cc-c96cd617b32c",
   "metadata": {},
   "source": [
    "## End"
   ]
  },
  {
   "cell_type": "code",
   "execution_count": null,
   "id": "61e9787f-713a-4ae6-9fcf-f7344628bf34",
   "metadata": {},
   "outputs": [],
   "source": [
    "#| hide\n",
    "import nbdev; nbdev.nbdev_export()"
   ]
  },
  {
   "cell_type": "code",
   "execution_count": null,
   "id": "e4043415-07ff-4ba4-90ea-1fdc42fea717",
   "metadata": {},
   "outputs": [],
   "source": []
  }
 ],
 "metadata": {
  "kernelspec": {
   "display_name": "python3",
   "language": "python",
   "name": "python3"
  }
 },
 "nbformat": 4,
 "nbformat_minor": 5
}
