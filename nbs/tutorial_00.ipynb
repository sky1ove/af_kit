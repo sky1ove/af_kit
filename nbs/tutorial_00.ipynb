{
 "cells": [
  {
   "cell_type": "raw",
   "id": "12f70a5d-3433-4c20-82cd-5dc56e06085d",
   "metadata": {},
   "source": [
    "---\n",
    "skip_showdoc: true\n",
    "skip_exec: true\n",
    "---"
   ]
  },
  {
   "cell_type": "markdown",
   "id": "1a3de40e-33f9-4291-ba26-583d0914b44f",
   "metadata": {},
   "source": [
    "# Tutorial"
   ]
  },
  {
   "cell_type": "code",
   "execution_count": null,
   "id": "5b4002ba-b7ba-489e-9b94-9f53a5a8ff5b",
   "metadata": {},
   "outputs": [],
   "source": [
    "pip install -U git+https://github.com/sky1ove/af_kit.git"
   ]
  },
  {
   "cell_type": "markdown",
   "id": "d01eafca-5142-44ec-833b-48f3bfe77610",
   "metadata": {},
   "source": [
    "## MSA"
   ]
  },
  {
   "cell_type": "markdown",
   "id": "2bc37321-50ca-44f0-b424-e5d55538a5ad",
   "metadata": {},
   "source": [
    "MSA can be run in cpu only server"
   ]
  },
  {
   "cell_type": "code",
   "execution_count": null,
   "id": "b3dbf025-f6f3-46b2-ac62-596013aa4b02",
   "metadata": {},
   "outputs": [],
   "source": [
    "pip install \"colabfold[alphafold] @ git+https://github.com/sokrypton/ColabFold\""
   ]
  },
  {
   "cell_type": "markdown",
   "id": "80810e8e-ea03-48b1-9285-d84903cbdebf",
   "metadata": {},
   "source": [
    "Prepare a csv that have first column `id` and second column `sequence` of amino acid sequence"
   ]
  },
  {
   "cell_type": "code",
   "execution_count": null,
   "id": "1ce39ad6-bd05-4e59-b2fd-2d0141dddde9",
   "metadata": {},
   "outputs": [],
   "source": [
    "colabfold_batch file.csv folder_name --msa-only"
   ]
  },
  {
   "cell_type": "markdown",
   "id": "0d104a50-4aa0-46f1-add3-2c9acdc33977",
   "metadata": {},
   "source": [
    "After finish, copy a3m files to a gpu available place"
   ]
  },
  {
   "cell_type": "code",
   "execution_count": null,
   "id": "0bea2a4a-965d-4107-ad6a-21b5c12a0ad8",
   "metadata": {},
   "outputs": [],
   "source": [
    "subfolder='project_name'"
   ]
  },
  {
   "cell_type": "code",
   "execution_count": null,
   "id": "844ed46e-4ed9-4947-a747-6a046f36459c",
   "metadata": {},
   "outputs": [],
   "source": [
    "copy_a3m(a3m_dir=f'/teamspace/studios/alphfold3/msa_{subfolder}',\n",
    "         dest_dir=f'af_input/{subfolder}/msa')"
   ]
  },
  {
   "cell_type": "markdown",
   "id": "28146d20-89b5-42e3-aa9c-f762e5f75d63",
   "metadata": {},
   "source": [
    "## JSON file"
   ]
  },
  {
   "cell_type": "code",
   "execution_count": null,
   "id": "7391a057-2998-4339-ade2-1a58bd14502b",
   "metadata": {},
   "outputs": [],
   "source": [
    "from af_kit.core import *\n",
    "import pandas as pd\n",
    "from tqdm import tqdm"
   ]
  },
  {
   "cell_type": "markdown",
   "id": "310a6c6e-7905-4f02-b8e5-ab9fa8b033da",
   "metadata": {},
   "source": [
    "Read the file that contained id and sequence"
   ]
  },
  {
   "cell_type": "code",
   "execution_count": null,
   "id": "9b7a6351-ccf0-4157-a3f8-774784a1dc76",
   "metadata": {},
   "outputs": [],
   "source": [
    "df = pd.read_csv('file.csv')"
   ]
  },
  {
   "cell_type": "code",
   "execution_count": null,
   "id": "34558232-c4b6-4ffa-b8b1-1fe178b62c34",
   "metadata": {},
   "outputs": [],
   "source": [
    "for idx, row in tqdm(df.iterrows(),total=len(df)):\n",
    "    data = get_AF_input([row.id], # if multiple protein, put their id in the []\n",
    "                        a3m_dir=f'af_input/{subfolder}/msa',\n",
    "                        save_folder=f'af_input/{subfolder}'\n",
    "                        )"
   ]
  },
  {
   "cell_type": "markdown",
   "id": "b872d425-a468-4bf8-989c-6d60b56192f5",
   "metadata": {},
   "source": [
    "This will generate a number of json files in the save_folder. \n",
    "\n",
    "We need to distribute them to nfolders for parallel running when multiple gpus are available."
   ]
  },
  {
   "cell_type": "code",
   "execution_count": null,
   "id": "ba537e36-6998-4dcc-9a42-f3cbd7a75c78",
   "metadata": {},
   "outputs": [],
   "source": [
    "split_nfolder(f'af_input/{subfolder}',n=4) # default n is 4"
   ]
  },
  {
   "cell_type": "markdown",
   "id": "67202bd0-df64-4e84-8ae5-67b588f36067",
   "metadata": {},
   "source": [
    "## Docker Command"
   ]
  },
  {
   "cell_type": "code",
   "execution_count": null,
   "id": "0a3e02c9-6fe7-41ad-9575-126b84b04047",
   "metadata": {},
   "outputs": [],
   "source": [
    "docker pull sky1ove/alphafold3"
   ]
  },
  {
   "cell_type": "code",
   "execution_count": null,
   "id": "3e81c4e9-f2b9-4250-b875-ebd3774b565f",
   "metadata": {},
   "outputs": [],
   "source": [
    "for i in range(4):\n",
    "    get_docker_command(input_dir=f\"af_input/{subfolder}/folder_{i}\",\n",
    "                       output_dir=f\"af_output/{subfolder}\",\n",
    "                       gpus=i)"
   ]
  },
  {
   "cell_type": "markdown",
   "id": "39326a0c-db33-490d-be70-b260cfb48bf3",
   "metadata": {},
   "source": [
    "Run the printed command in your terminal"
   ]
  },
  {
   "cell_type": "markdown",
   "id": "d68baa03-e4ec-40f0-800b-8238db028149",
   "metadata": {},
   "source": [
    "## Report for protein pairs"
   ]
  },
  {
   "cell_type": "code",
   "execution_count": null,
   "id": "1aa4a5ee-0c33-4687-8d5f-60b48278ea4d",
   "metadata": {},
   "outputs": [],
   "source": [
    "from af_kit.analyze import *"
   ]
  },
  {
   "cell_type": "code",
   "execution_count": null,
   "id": "3a18f83e-6be4-4a74-bfa5-7d3ecba2a3c9",
   "metadata": {},
   "outputs": [],
   "source": [
    "df_sum, top_genes = get_report(f\"af_output/{subfolder}\",\n",
    "                               save_dir=f'af_report/{subfolder}')\n",
    "\n",
    "df_sum.sort_values('iptm_ptm_rnk_add').head(10)"
   ]
  },
  {
   "cell_type": "markdown",
   "id": "c6b87faa-f279-4d83-93b2-28ece87a39b0",
   "metadata": {},
   "source": [
    "A 3d plot will be generated with x='iptm',y='ptm',z='chain_pair_pae_min_add'"
   ]
  },
  {
   "cell_type": "markdown",
   "id": "2e9d21b2-112e-45bf-8025-7a1c56c0ef8f",
   "metadata": {},
   "source": [
    "Top genes are:\n",
    "- Smallest 30 from 'iptm_ptm_rnk_add', \n",
    "        'chain_pair_pae_min_add', \n",
    "        'chain_pair_pae_min_0_1', \n",
    "        'chain_pair_pae_min_1_0', \n",
    "        'iptm_pae_add_rnk'\n",
    "- Largest 30 from 'ranking_score', 'iptm', 'iptm_ptm_add'"
   ]
  },
  {
   "cell_type": "markdown",
   "id": "5de9c2a6-88c6-4717-ab92-356f49bd3666",
   "metadata": {},
   "source": [
    "df_sum contains the score for each metric"
   ]
  },
  {
   "cell_type": "markdown",
   "id": "3c1b7b69-683a-45a5-b506-77e3754ac359",
   "metadata": {},
   "source": [
    "## Embeddings"
   ]
  },
  {
   "cell_type": "markdown",
   "id": "a64b1696-104f-4e09-b2f2-15a0aa71083b",
   "metadata": {},
   "source": [
    "To do "
   ]
  }
 ],
 "metadata": {
  "kernelspec": {
   "display_name": "Python 3",
   "language": "python",
   "name": "python3"
  },
  "language_info": {
   "codemirror_mode": {
    "name": "ipython",
    "version": 3
   },
   "file_extension": ".py",
   "mimetype": "text/x-python",
   "name": "python",
   "nbconvert_exporter": "python",
   "pygments_lexer": "ipython3",
   "version": "3.10.10"
  }
 },
 "nbformat": 4,
 "nbformat_minor": 5
}
