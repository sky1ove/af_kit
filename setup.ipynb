{
 "cells": [
  {
   "cell_type": "code",
   "execution_count": null,
   "id": "94b3a2df-00be-4dec-b930-dbfe1e93c5aa",
   "metadata": {},
   "outputs": [],
   "source": [
    "pip install -e ."
   ]
  },
  {
   "cell_type": "code",
   "execution_count": null,
   "id": "0e3a1b56-c988-4cba-87b0-437d3708cc3a",
   "metadata": {},
   "outputs": [],
   "source": [
    "nbdev_prepare"
   ]
  },
  {
   "cell_type": "markdown",
   "id": "3df70499-3c7f-4618-a861-517fe2e0f4b9",
   "metadata": {},
   "source": [
    "path: '/teamspace/stdios/this_studio/af_kit'"
   ]
  },
  {
   "cell_type": "code",
   "execution_count": null,
   "id": "529a9176-6fc5-4961-9ded-152ed611c4f0",
   "metadata": {},
   "outputs": [],
   "source": []
  }
 ],
 "metadata": {
  "kernelspec": {
   "display_name": "Python 3",
   "language": "python",
   "name": "python3"
  },
  "language_info": {
   "codemirror_mode": {
    "name": "ipython",
    "version": 3
   },
   "file_extension": ".py",
   "mimetype": "text/x-python",
   "name": "python",
   "nbconvert_exporter": "python",
   "pygments_lexer": "ipython3",
   "version": "3.10.10"
  }
 },
 "nbformat": 4,
 "nbformat_minor": 5
}
