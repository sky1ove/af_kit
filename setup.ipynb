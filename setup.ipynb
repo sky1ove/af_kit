{
 "cells": [
  {
   "cell_type": "code",
   "execution_count": 1,
   "id": "94b3a2df-00be-4dec-b930-dbfe1e93c5aa",
   "metadata": {},
   "outputs": [
    {
     "name": "stdout",
     "output_type": "stream",
     "text": [
      "Obtaining file:///teamspace/studios/this_studio/af_kit\n",
      "  Installing build dependencies ... \u001b[?25ldone\n",
      "\u001b[?25h  Checking if build backend supports build_editable ... \u001b[?25ldone\n",
      "\u001b[?25h  Getting requirements to build editable ... \u001b[?25ldone\n",
      "\u001b[?25h  Preparing editable metadata (pyproject.toml) ... \u001b[?25ldone\n",
      "\u001b[?25hRequirement already satisfied: fastcore in /system/conda/miniconda3/envs/cloudspace/lib/python3.10/site-packages (from af_kit==0.0.1) (1.7.28)\n",
      "Requirement already satisfied: pandas in /system/conda/miniconda3/envs/cloudspace/lib/python3.10/site-packages (from af_kit==0.0.1) (1.5.3)\n",
      "Requirement already satisfied: numpy in /system/conda/miniconda3/envs/cloudspace/lib/python3.10/site-packages (from af_kit==0.0.1) (1.26.4)\n",
      "Requirement already satisfied: pathlib in /system/conda/miniconda3/envs/cloudspace/lib/python3.10/site-packages (from af_kit==0.0.1) (1.0.1)\n",
      "Requirement already satisfied: tqdm in /system/conda/miniconda3/envs/cloudspace/lib/python3.10/site-packages (from af_kit==0.0.1) (4.66.4)\n",
      "Requirement already satisfied: plotly in /system/conda/miniconda3/envs/cloudspace/lib/python3.10/site-packages (from af_kit==0.0.1) (5.24.1)\n",
      "Requirement already satisfied: adjustText in /system/conda/miniconda3/envs/cloudspace/lib/python3.10/site-packages (from af_kit==0.0.1) (1.3.0)\n",
      "Requirement already satisfied: matplotlib in /system/conda/miniconda3/envs/cloudspace/lib/python3.10/site-packages (from af_kit==0.0.1) (3.8.2)\n",
      "Requirement already satisfied: openpyxl in /system/conda/miniconda3/envs/cloudspace/lib/python3.10/site-packages (from af_kit==0.0.1) (3.1.5)\n",
      "Requirement already satisfied: scipy in /system/conda/miniconda3/envs/cloudspace/lib/python3.10/site-packages (from adjustText->af_kit==0.0.1) (1.11.4)\n",
      "Requirement already satisfied: packaging in /system/conda/miniconda3/envs/cloudspace/lib/python3.10/site-packages (from fastcore->af_kit==0.0.1) (24.1)\n",
      "Requirement already satisfied: contourpy>=1.0.1 in /system/conda/miniconda3/envs/cloudspace/lib/python3.10/site-packages (from matplotlib->af_kit==0.0.1) (1.2.1)\n",
      "Requirement already satisfied: cycler>=0.10 in /system/conda/miniconda3/envs/cloudspace/lib/python3.10/site-packages (from matplotlib->af_kit==0.0.1) (0.12.1)\n",
      "Requirement already satisfied: fonttools>=4.22.0 in /system/conda/miniconda3/envs/cloudspace/lib/python3.10/site-packages (from matplotlib->af_kit==0.0.1) (4.53.1)\n",
      "Requirement already satisfied: kiwisolver>=1.3.1 in /system/conda/miniconda3/envs/cloudspace/lib/python3.10/site-packages (from matplotlib->af_kit==0.0.1) (1.4.5)\n",
      "Requirement already satisfied: pillow>=8 in /system/conda/miniconda3/envs/cloudspace/lib/python3.10/site-packages (from matplotlib->af_kit==0.0.1) (10.4.0)\n",
      "Requirement already satisfied: pyparsing>=2.3.1 in /system/conda/miniconda3/envs/cloudspace/lib/python3.10/site-packages (from matplotlib->af_kit==0.0.1) (3.1.2)\n",
      "Requirement already satisfied: python-dateutil>=2.7 in /system/conda/miniconda3/envs/cloudspace/lib/python3.10/site-packages (from matplotlib->af_kit==0.0.1) (2.9.0.post0)\n",
      "Requirement already satisfied: et-xmlfile in /system/conda/miniconda3/envs/cloudspace/lib/python3.10/site-packages (from openpyxl->af_kit==0.0.1) (2.0.0)\n",
      "Requirement already satisfied: pytz>=2020.1 in /system/conda/miniconda3/envs/cloudspace/lib/python3.10/site-packages (from pandas->af_kit==0.0.1) (2024.1)\n",
      "Requirement already satisfied: tenacity>=6.2.0 in /system/conda/miniconda3/envs/cloudspace/lib/python3.10/site-packages (from plotly->af_kit==0.0.1) (9.0.0)\n",
      "Requirement already satisfied: six>=1.5 in /system/conda/miniconda3/envs/cloudspace/lib/python3.10/site-packages (from python-dateutil>=2.7->matplotlib->af_kit==0.0.1) (1.16.0)\n",
      "Building wheels for collected packages: af_kit\n",
      "  Building editable for af_kit (pyproject.toml) ... \u001b[?25ldone\n",
      "\u001b[?25h  Created wheel for af_kit: filename=af_kit-0.0.1-0.editable-py3-none-any.whl size=7631 sha256=33a3870e8bca9ebf9c0831b12d42e973101b41ca63164002539a4292b6058041\n",
      "  Stored in directory: /tmp/pip-ephem-wheel-cache-4pky9ilp/wheels/2b/b6/d6/743cada3aea479c007f3e91e33f0eb05f688ad3f44258e8cc6\n",
      "Successfully built af_kit\n",
      "Installing collected packages: af_kit\n",
      "  Attempting uninstall: af_kit\n",
      "    Found existing installation: af_kit 0.0.1\n",
      "    Uninstalling af_kit-0.0.1:\n",
      "      Successfully uninstalled af_kit-0.0.1\n",
      "Successfully installed af_kit-0.0.1\n",
      "\n",
      "\u001b[1m[\u001b[0m\u001b[34;49mnotice\u001b[0m\u001b[1;39;49m]\u001b[0m\u001b[39;49m A new release of pip is available: \u001b[0m\u001b[31;49m24.3.1\u001b[0m\u001b[39;49m -> \u001b[0m\u001b[32;49m25.0.1\u001b[0m\n",
      "\u001b[1m[\u001b[0m\u001b[34;49mnotice\u001b[0m\u001b[1;39;49m]\u001b[0m\u001b[39;49m To update, run: \u001b[0m\u001b[32;49mpip install --upgrade pip\u001b[0m\n",
      "Note: you may need to restart the kernel to use updated packages.\n"
     ]
    }
   ],
   "source": [
    "pip install -e ."
   ]
  },
  {
   "cell_type": "markdown",
   "id": "3df70499-3c7f-4618-a861-517fe2e0f4b9",
   "metadata": {},
   "source": [
    "path: '/teamspace/stdios/this_studio/af_kit'"
   ]
  },
  {
   "cell_type": "code",
   "execution_count": null,
   "id": "529a9176-6fc5-4961-9ded-152ed611c4f0",
   "metadata": {},
   "outputs": [],
   "source": []
  }
 ],
 "metadata": {
  "kernelspec": {
   "display_name": "Python 3",
   "language": "python",
   "name": "python3"
  },
  "language_info": {
   "codemirror_mode": {
    "name": "ipython",
    "version": 3
   },
   "file_extension": ".py",
   "mimetype": "text/x-python",
   "name": "python",
   "nbconvert_exporter": "python",
   "pygments_lexer": "ipython3",
   "version": "3.10.10"
  }
 },
 "nbformat": 4,
 "nbformat_minor": 5
}
